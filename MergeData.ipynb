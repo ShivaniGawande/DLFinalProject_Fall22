{
 "cells": [
  {
   "cell_type": "code",
   "execution_count": 1,
   "id": "20b871b2",
   "metadata": {},
   "outputs": [],
   "source": [
    "import pandas as pd"
   ]
  },
  {
   "cell_type": "code",
   "execution_count": 3,
   "id": "4e744095",
   "metadata": {},
   "outputs": [],
   "source": [
    "headline_df = pd.read_json('Sarcasm_Headlines_Dataset.json', lines=True)"
   ]
  },
  {
   "cell_type": "code",
   "execution_count": 4,
   "id": "c1bdfd18",
   "metadata": {},
   "outputs": [],
   "source": [
    "twts = \"https://raw.githubusercontent.com/EducationalTestingService/sarcasm/master/twitter/sarcasm_detection_shared_task_twitter_training.jsonl\""
   ]
  },
  {
   "cell_type": "code",
   "execution_count": 6,
   "id": "66acc585",
   "metadata": {},
   "outputs": [],
   "source": [
    "import requests\n",
    "s = requests.get(twts).content"
   ]
  },
  {
   "cell_type": "code",
   "execution_count": 10,
   "id": "d133170d",
   "metadata": {},
   "outputs": [],
   "source": [
    "s = s.decode()"
   ]
  },
  {
   "cell_type": "code",
   "execution_count": 11,
   "id": "96e87436",
   "metadata": {},
   "outputs": [],
   "source": [
    "twts_df = pd.read_json(s, lines=True)"
   ]
  },
  {
   "cell_type": "code",
   "execution_count": 12,
   "id": "c9213d1e",
   "metadata": {},
   "outputs": [
    {
     "name": "stdout",
     "output_type": "stream",
     "text": [
      "<class 'pandas.core.frame.DataFrame'>\n",
      "RangeIndex: 5000 entries, 0 to 4999\n",
      "Data columns (total 3 columns):\n",
      " #   Column    Non-Null Count  Dtype \n",
      "---  ------    --------------  ----- \n",
      " 0   label     5000 non-null   object\n",
      " 1   response  5000 non-null   object\n",
      " 2   context   5000 non-null   object\n",
      "dtypes: object(3)\n",
      "memory usage: 117.3+ KB\n"
     ]
    }
   ],
   "source": [
    "twts_df.info()"
   ]
  },
  {
   "cell_type": "code",
   "execution_count": 13,
   "id": "06d41872",
   "metadata": {},
   "outputs": [
    {
     "name": "stdout",
     "output_type": "stream",
     "text": [
      "<class 'pandas.core.frame.DataFrame'>\n",
      "RangeIndex: 26709 entries, 0 to 26708\n",
      "Data columns (total 3 columns):\n",
      " #   Column        Non-Null Count  Dtype \n",
      "---  ------        --------------  ----- \n",
      " 0   article_link  26709 non-null  object\n",
      " 1   headline      26709 non-null  object\n",
      " 2   is_sarcastic  26709 non-null  int64 \n",
      "dtypes: int64(1), object(2)\n",
      "memory usage: 626.1+ KB\n"
     ]
    }
   ],
   "source": [
    "headline_df.info()"
   ]
  },
  {
   "cell_type": "code",
   "execution_count": 16,
   "id": "f047c406",
   "metadata": {},
   "outputs": [
    {
     "data": {
      "text/plain": [
       "'https://www.huffingtonpost.com/entry/versace-black-code_us_5861fbefe4b0de3a08f600d5'"
      ]
     },
     "execution_count": 16,
     "metadata": {},
     "output_type": "execute_result"
    }
   ],
   "source": [
    "headline_df['article_link'][0]"
   ]
  },
  {
   "cell_type": "code",
   "execution_count": 20,
   "id": "bd288182",
   "metadata": {},
   "outputs": [],
   "source": [
    "headline_df.drop(columns=['article_link'], inplace=True)"
   ]
  },
  {
   "cell_type": "code",
   "execution_count": 21,
   "id": "ed68fa5a",
   "metadata": {},
   "outputs": [],
   "source": [
    "context_list = twts_df['context']"
   ]
  },
  {
   "cell_type": "code",
   "execution_count": 22,
   "id": "7dc6552b",
   "metadata": {},
   "outputs": [],
   "source": [
    "context_list = [\" \".join(context) for context in context_list]"
   ]
  },
  {
   "cell_type": "code",
   "execution_count": 23,
   "id": "1c5fe440",
   "metadata": {},
   "outputs": [],
   "source": [
    "twts_df['concat_context'] = context_list"
   ]
  },
  {
   "cell_type": "code",
   "execution_count": 25,
   "id": "7cf964d9",
   "metadata": {},
   "outputs": [],
   "source": [
    "twts_df['response'] = twts_df['response'] + twts_df['concat_context']"
   ]
  },
  {
   "cell_type": "code",
   "execution_count": 26,
   "id": "ffd0d8e2",
   "metadata": {},
   "outputs": [
    {
     "name": "stdout",
     "output_type": "stream",
     "text": [
      "<class 'pandas.core.frame.DataFrame'>\n",
      "RangeIndex: 5000 entries, 0 to 4999\n",
      "Data columns (total 4 columns):\n",
      " #   Column          Non-Null Count  Dtype \n",
      "---  ------          --------------  ----- \n",
      " 0   label           5000 non-null   object\n",
      " 1   response        5000 non-null   object\n",
      " 2   context         5000 non-null   object\n",
      " 3   concat_context  5000 non-null   object\n",
      "dtypes: object(4)\n",
      "memory usage: 156.4+ KB\n"
     ]
    }
   ],
   "source": [
    "twts_df.info()"
   ]
  },
  {
   "cell_type": "code",
   "execution_count": 27,
   "id": "3eb3900f",
   "metadata": {},
   "outputs": [],
   "source": [
    "twts_df.drop(columns=['context', 'concat_context'], inplace=True)"
   ]
  },
  {
   "cell_type": "code",
   "execution_count": 29,
   "id": "bf4324d0",
   "metadata": {},
   "outputs": [],
   "source": [
    "twts_df.rename(columns={'response':'headline', 'label':'is_sarcastic'}, inplace=True)"
   ]
  },
  {
   "cell_type": "code",
   "execution_count": 31,
   "id": "03456dc3",
   "metadata": {},
   "outputs": [],
   "source": [
    "merged_df = pd.concat([twts_df, headline_df])"
   ]
  },
  {
   "cell_type": "code",
   "execution_count": 35,
   "id": "b800358f",
   "metadata": {},
   "outputs": [],
   "source": [
    "merged_df = merged_df.sample(frac=1)"
   ]
  },
  {
   "cell_type": "code",
   "execution_count": 37,
   "id": "d8f79192",
   "metadata": {},
   "outputs": [],
   "source": [
    "merged_df['is_sarcastic'].replace({'SARCASM':1, 'NOT_SARCASM':0}, inplace=True)"
   ]
  },
  {
   "cell_type": "code",
   "execution_count": 38,
   "id": "e1b20200",
   "metadata": {},
   "outputs": [],
   "source": [
    "merged_df = merged_df.sample(frac=1)"
   ]
  },
  {
   "cell_type": "code",
   "execution_count": 39,
   "id": "ffbb9546",
   "metadata": {},
   "outputs": [
    {
     "data": {
      "text/html": [
       "<div>\n",
       "<style scoped>\n",
       "    .dataframe tbody tr th:only-of-type {\n",
       "        vertical-align: middle;\n",
       "    }\n",
       "\n",
       "    .dataframe tbody tr th {\n",
       "        vertical-align: top;\n",
       "    }\n",
       "\n",
       "    .dataframe thead th {\n",
       "        text-align: right;\n",
       "    }\n",
       "</style>\n",
       "<table border=\"1\" class=\"dataframe\">\n",
       "  <thead>\n",
       "    <tr style=\"text-align: right;\">\n",
       "      <th></th>\n",
       "      <th>is_sarcastic</th>\n",
       "      <th>headline</th>\n",
       "    </tr>\n",
       "  </thead>\n",
       "  <tbody>\n",
       "    <tr>\n",
       "      <th>20062</th>\n",
       "      <td>0</td>\n",
       "      <td>what your brain actually does when you multitask</td>\n",
       "    </tr>\n",
       "    <tr>\n",
       "      <th>9968</th>\n",
       "      <td>0</td>\n",
       "      <td>'the daily show' puts trump supporters through...</td>\n",
       "    </tr>\n",
       "    <tr>\n",
       "      <th>3720</th>\n",
       "      <td>0</td>\n",
       "      <td>@USER people are walking around like zombies ,...</td>\n",
       "    </tr>\n",
       "    <tr>\n",
       "      <th>14183</th>\n",
       "      <td>0</td>\n",
       "      <td>women rewrite the constitution in jay-z's 'fam...</td>\n",
       "    </tr>\n",
       "    <tr>\n",
       "      <th>3731</th>\n",
       "      <td>1</td>\n",
       "      <td>unpublished twain autobiography rails against ...</td>\n",
       "    </tr>\n",
       "  </tbody>\n",
       "</table>\n",
       "</div>"
      ],
      "text/plain": [
       "       is_sarcastic                                           headline\n",
       "20062             0   what your brain actually does when you multitask\n",
       "9968              0  'the daily show' puts trump supporters through...\n",
       "3720              0  @USER people are walking around like zombies ,...\n",
       "14183             0  women rewrite the constitution in jay-z's 'fam...\n",
       "3731              1  unpublished twain autobiography rails against ..."
      ]
     },
     "execution_count": 39,
     "metadata": {},
     "output_type": "execute_result"
    }
   ],
   "source": [
    "merged_df.head()"
   ]
  },
  {
   "cell_type": "code",
   "execution_count": 40,
   "id": "fd78d461",
   "metadata": {},
   "outputs": [],
   "source": [
    "merged_df.to_csv(\"mergedDataset.csv\")"
   ]
  },
  {
   "cell_type": "code",
   "execution_count": null,
   "id": "a8ba1e7f",
   "metadata": {},
   "outputs": [],
   "source": []
  }
 ],
 "metadata": {
  "kernelspec": {
   "display_name": "Python 3 (ipykernel)",
   "language": "python",
   "name": "python3"
  },
  "language_info": {
   "codemirror_mode": {
    "name": "ipython",
    "version": 3
   },
   "file_extension": ".py",
   "mimetype": "text/x-python",
   "name": "python",
   "nbconvert_exporter": "python",
   "pygments_lexer": "ipython3",
   "version": "3.10.6"
  }
 },
 "nbformat": 4,
 "nbformat_minor": 5
}

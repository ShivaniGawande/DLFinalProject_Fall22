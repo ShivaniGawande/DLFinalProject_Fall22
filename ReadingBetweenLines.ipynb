{
  "nbformat": 4,
  "nbformat_minor": 0,
  "metadata": {
    "colab": {
      "provenance": [],
      "authorship_tag": "ABX9TyN9c+VTe2oa+Pfd1btQQaIN",
      "include_colab_link": true
    },
    "kernelspec": {
      "name": "python3",
      "display_name": "Python 3"
    },
    "language_info": {
      "name": "python"
    }
  },
  "cells": [
    {
      "cell_type": "markdown",
      "metadata": {
        "id": "view-in-github",
        "colab_type": "text"
      },
      "source": [
        "<a href=\"https://colab.research.google.com/github/ShivaniGawande/DLFinalProject_Fall22/blob/main/ReadingBetweenLines.ipynb\" target=\"_parent\"><img src=\"https://colab.research.google.com/assets/colab-badge.svg\" alt=\"Open In Colab\"/></a>"
      ]
    },
    {
      "cell_type": "markdown",
      "source": [
        "# Introduction"
      ],
      "metadata": {
        "id": "DHM_jWL8lf60"
      }
    },
    {
      "cell_type": "markdown",
      "source": [
        "Information about data, project and contents of the notebook"
      ],
      "metadata": {
        "id": "eJY3PyR9ljUg"
      }
    },
    {
      "cell_type": "markdown",
      "source": [
        "# Data Loading"
      ],
      "metadata": {
        "id": "E6QgK8tMk3GG"
      }
    },
    {
      "cell_type": "markdown",
      "source": [
        "Importing Libraries"
      ],
      "metadata": {
        "id": "NBYMFF_plO5f"
      }
    },
    {
      "cell_type": "code",
      "source": [],
      "metadata": {
        "id": "SI6Ta6-FlZl2"
      },
      "execution_count": null,
      "outputs": []
    },
    {
      "cell_type": "markdown",
      "source": [
        "Loading Dataset"
      ],
      "metadata": {
        "id": "dHK0N_QYlYeS"
      }
    },
    {
      "cell_type": "code",
      "source": [],
      "metadata": {
        "id": "TyrXSprclc2O"
      },
      "execution_count": null,
      "outputs": []
    },
    {
      "cell_type": "markdown",
      "source": [
        "# Exploratory Data Analysis"
      ],
      "metadata": {
        "id": "jklGHyYFl1UC"
      }
    },
    {
      "cell_type": "markdown",
      "source": [
        "Meta Features "
      ],
      "metadata": {
        "id": "Up9Ckizxl5SE"
      }
    },
    {
      "cell_type": "code",
      "source": [],
      "metadata": {
        "id": "B4EGWe-9mWHY"
      },
      "execution_count": null,
      "outputs": []
    },
    {
      "cell_type": "markdown",
      "source": [
        "Embeddings and Data Cleaning"
      ],
      "metadata": {
        "id": "s-DA5G_PmWjb"
      }
    },
    {
      "cell_type": "code",
      "source": [],
      "metadata": {
        "id": "-FIyEqnrmbmq"
      },
      "execution_count": null,
      "outputs": []
    },
    {
      "cell_type": "markdown",
      "source": [
        "Handling Mislabeled Samples"
      ],
      "metadata": {
        "id": "AhhNKm_tmcMc"
      }
    },
    {
      "cell_type": "code",
      "source": [],
      "metadata": {
        "id": "XB4UXCaJmmPY"
      },
      "execution_count": null,
      "outputs": []
    },
    {
      "cell_type": "markdown",
      "source": [],
      "metadata": {
        "id": "e-r_0ztsmm2q"
      }
    },
    {
      "cell_type": "markdown",
      "source": [
        "#Model Implementation"
      ],
      "metadata": {
        "id": "XkhecrYnnD3v"
      }
    },
    {
      "cell_type": "markdown",
      "source": [
        "Baseline model - word2vec"
      ],
      "metadata": {
        "id": "obA3ecCGnI79"
      }
    },
    {
      "cell_type": "code",
      "source": [],
      "metadata": {
        "id": "RIN8QZqtnMCF"
      },
      "execution_count": null,
      "outputs": []
    },
    {
      "cell_type": "markdown",
      "source": [
        "BERT"
      ],
      "metadata": {
        "id": "fRUfoE7pnRRQ"
      }
    },
    {
      "cell_type": "code",
      "source": [],
      "metadata": {
        "id": "oeiaZ7bznv21"
      },
      "execution_count": null,
      "outputs": []
    },
    {
      "cell_type": "markdown",
      "source": [
        "CLIP + cosine similarity"
      ],
      "metadata": {
        "id": "90A0JS1fnwNQ"
      }
    },
    {
      "cell_type": "code",
      "source": [],
      "metadata": {
        "id": "7Ymd2OH_nx03"
      },
      "execution_count": null,
      "outputs": []
    },
    {
      "cell_type": "markdown",
      "source": [
        "#Validation "
      ],
      "metadata": {
        "id": "6I4iFCIEq9zp"
      }
    },
    {
      "cell_type": "markdown",
      "source": [
        "Plot for Word2Vec (Baseline)"
      ],
      "metadata": {
        "id": "UxzeCeP1rk0_"
      }
    },
    {
      "cell_type": "code",
      "source": [],
      "metadata": {
        "id": "nR3DGgK6sAnl"
      },
      "execution_count": null,
      "outputs": []
    },
    {
      "cell_type": "markdown",
      "source": [
        "Plot for BERT"
      ],
      "metadata": {
        "id": "K35p-W1Jrp0M"
      }
    },
    {
      "cell_type": "code",
      "source": [],
      "metadata": {
        "id": "pFWutoqEsBjv"
      },
      "execution_count": null,
      "outputs": []
    },
    {
      "cell_type": "markdown",
      "source": [
        "Plot for CLIP + cosine similarity"
      ],
      "metadata": {
        "id": "L1GBBzoors9P"
      }
    },
    {
      "cell_type": "code",
      "source": [],
      "metadata": {
        "id": "ZPDNKoJjsDGa"
      },
      "execution_count": null,
      "outputs": []
    },
    {
      "cell_type": "markdown",
      "source": [
        "#Comparing all the three models"
      ],
      "metadata": {
        "id": "aWNn1r1Yr4sC"
      }
    },
    {
      "cell_type": "code",
      "source": [],
      "metadata": {
        "id": "067FYHMnsEAg"
      },
      "execution_count": null,
      "outputs": []
    },
    {
      "cell_type": "markdown",
      "source": [
        "Inference"
      ],
      "metadata": {
        "id": "g8ybNlEJr8mS"
      }
    },
    {
      "cell_type": "code",
      "source": [],
      "metadata": {
        "id": "K8IqUDgWsEhC"
      },
      "execution_count": null,
      "outputs": []
    }
  ]
}
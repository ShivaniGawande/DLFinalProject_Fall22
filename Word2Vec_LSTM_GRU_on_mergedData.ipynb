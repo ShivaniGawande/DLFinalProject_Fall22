{
  "nbformat": 4,
  "nbformat_minor": 0,
  "metadata": {
    "colab": {
      "provenance": []
    },
    "kernelspec": {
      "name": "python3",
      "display_name": "Python 3"
    },
    "language_info": {
      "name": "python"
    }
  },
  "cells": [
    {
      "cell_type": "markdown",
      "source": [
        "Importing Libraries"
      ],
      "metadata": {
        "id": "NBYMFF_plO5f"
      }
    },
    {
      "cell_type": "code",
      "source": [
        "from pydrive.auth import GoogleAuth\n",
        "from google.colab import drive\n",
        "from pydrive.drive import GoogleDrive\n",
        "from google.colab import auth\n",
        "from oauth2client.client import GoogleCredentials\n",
        "import numpy as np \n",
        "import pandas as pd\n",
        "import seaborn as sns\n",
        "import gensim\n",
        "import re, string, unicodedata\n",
        "from keras_preprocessing.sequence import pad_sequences\n",
        "from keras.preprocessing import text, sequence\n",
        "import matplotlib.pyplot as plt\n",
        "import nltk\n",
        "nltk.download('stopwords')\n",
        "from nltk.corpus import stopwords\n",
        "from keras.models import Sequential\n",
        "from keras.layers import Dense,Embedding,LSTM,Dropout,Bidirectional,GRU\n",
        "import tensorflow as tf\n",
        "import keras\n",
        "from sklearn.model_selection import train_test_split\n",
        "from sklearn.metrics import classification_report, confusion_matrix, accuracy_score"
      ],
      "metadata": {
        "id": "SI6Ta6-FlZl2",
        "colab": {
          "base_uri": "https://localhost:8080/"
        },
        "outputId": "9baa0b40-84ca-471e-f2d4-215a062bbec0"
      },
      "execution_count": 1,
      "outputs": [
        {
          "output_type": "stream",
          "name": "stderr",
          "text": [
            "[nltk_data] Downloading package stopwords to /root/nltk_data...\n",
            "[nltk_data]   Unzipping corpora/stopwords.zip.\n"
          ]
        }
      ]
    },
    {
      "cell_type": "markdown",
      "source": [
        "Loading Dataset"
      ],
      "metadata": {
        "id": "dHK0N_QYlYeS"
      }
    },
    {
      "cell_type": "code",
      "source": [
        "#loading data from google drive\n",
        "auth.authenticate_user()\n",
        "gauth = GoogleAuth()\n",
        "gauth.credentials = GoogleCredentials.get_application_default()\n",
        "drive = GoogleDrive(gauth)\n",
        "\n",
        "\n",
        "train_file_id = '1gfU_3JLesTYMDve8C6dMks9__dv5JT-5'\n",
        "#test_file_id = '1J4K-z82tEr4jkwG1Hl1t-eigpcivqt3k' \n",
        "\n",
        "download = drive.CreateFile({'id': train_file_id})\n",
        "download.GetContentFile('train.csv')\n",
        "df  = pd.read_csv(\"train.csv\")\n",
        "df = df[['is_sarcastic', 'headline']]\n",
        "df.head()\n"
      ],
      "metadata": {
        "id": "TyrXSprclc2O",
        "colab": {
          "base_uri": "https://localhost:8080/"
        },
        "outputId": "64fa6fb4-a25f-47ed-cc23-a3c42d5ca1aa"
      },
      "execution_count": 2,
      "outputs": [
        {
          "output_type": "stream",
          "name": "stdout",
          "text": [
            "   Unnamed: 0  is_sarcastic                                           headline\n",
            "0       20062             0   what your brain actually does when you multitask\n",
            "1        9968             0  'the daily show' puts trump supporters through...\n",
            "2        3720             0  @USER people are walking around like zombies ,...\n",
            "3       14183             0  women rewrite the constitution in jay-z's 'fam...\n",
            "4        3731             1  unpublished twain autobiography rails against ...\n"
          ]
        }
      ]
    },
    {
      "cell_type": "markdown",
      "source": [
        "#Model Implementation"
      ],
      "metadata": {
        "id": "XkhecrYnnD3v"
      }
    },
    {
      "cell_type": "markdown",
      "source": [
        "Baseline model - word2vec"
      ],
      "metadata": {
        "id": "obA3ecCGnI79"
      }
    },
    {
      "cell_type": "code",
      "source": [
        "df.isna().sum() # Checking for NaN values"
      ],
      "metadata": {
        "id": "RIN8QZqtnMCF",
        "colab": {
          "base_uri": "https://localhost:8080/"
        },
        "outputId": "3ec3272d-d005-454e-ccec-fa729f36d2b8"
      },
      "execution_count": 3,
      "outputs": [
        {
          "output_type": "execute_result",
          "data": {
            "text/plain": [
              "Unnamed: 0      0\n",
              "is_sarcastic    0\n",
              "headline        0\n",
              "dtype: int64"
            ]
          },
          "metadata": {},
          "execution_count": 3
        }
      ]
    },
    {
      "cell_type": "code",
      "source": [
        "df.head()"
      ],
      "metadata": {
        "colab": {
          "base_uri": "https://localhost:8080/",
          "height": 206
        },
        "id": "MGb-nF7fHW4u",
        "outputId": "fc6ea628-951d-45b8-d0cd-183f01eb251d"
      },
      "execution_count": 4,
      "outputs": [
        {
          "output_type": "execute_result",
          "data": {
            "text/plain": [
              "   Unnamed: 0  is_sarcastic                                           headline\n",
              "0       20062             0   what your brain actually does when you multitask\n",
              "1        9968             0  'the daily show' puts trump supporters through...\n",
              "2        3720             0  @USER people are walking around like zombies ,...\n",
              "3       14183             0  women rewrite the constitution in jay-z's 'fam...\n",
              "4        3731             1  unpublished twain autobiography rails against ..."
            ],
            "text/html": [
              "\n",
              "  <div id=\"df-a3203762-862c-4d9d-add2-ce9e1b523e1c\">\n",
              "    <div class=\"colab-df-container\">\n",
              "      <div>\n",
              "<style scoped>\n",
              "    .dataframe tbody tr th:only-of-type {\n",
              "        vertical-align: middle;\n",
              "    }\n",
              "\n",
              "    .dataframe tbody tr th {\n",
              "        vertical-align: top;\n",
              "    }\n",
              "\n",
              "    .dataframe thead th {\n",
              "        text-align: right;\n",
              "    }\n",
              "</style>\n",
              "<table border=\"1\" class=\"dataframe\">\n",
              "  <thead>\n",
              "    <tr style=\"text-align: right;\">\n",
              "      <th></th>\n",
              "      <th>Unnamed: 0</th>\n",
              "      <th>is_sarcastic</th>\n",
              "      <th>headline</th>\n",
              "    </tr>\n",
              "  </thead>\n",
              "  <tbody>\n",
              "    <tr>\n",
              "      <th>0</th>\n",
              "      <td>20062</td>\n",
              "      <td>0</td>\n",
              "      <td>what your brain actually does when you multitask</td>\n",
              "    </tr>\n",
              "    <tr>\n",
              "      <th>1</th>\n",
              "      <td>9968</td>\n",
              "      <td>0</td>\n",
              "      <td>'the daily show' puts trump supporters through...</td>\n",
              "    </tr>\n",
              "    <tr>\n",
              "      <th>2</th>\n",
              "      <td>3720</td>\n",
              "      <td>0</td>\n",
              "      <td>@USER people are walking around like zombies ,...</td>\n",
              "    </tr>\n",
              "    <tr>\n",
              "      <th>3</th>\n",
              "      <td>14183</td>\n",
              "      <td>0</td>\n",
              "      <td>women rewrite the constitution in jay-z's 'fam...</td>\n",
              "    </tr>\n",
              "    <tr>\n",
              "      <th>4</th>\n",
              "      <td>3731</td>\n",
              "      <td>1</td>\n",
              "      <td>unpublished twain autobiography rails against ...</td>\n",
              "    </tr>\n",
              "  </tbody>\n",
              "</table>\n",
              "</div>\n",
              "      <button class=\"colab-df-convert\" onclick=\"convertToInteractive('df-a3203762-862c-4d9d-add2-ce9e1b523e1c')\"\n",
              "              title=\"Convert this dataframe to an interactive table.\"\n",
              "              style=\"display:none;\">\n",
              "        \n",
              "  <svg xmlns=\"http://www.w3.org/2000/svg\" height=\"24px\"viewBox=\"0 0 24 24\"\n",
              "       width=\"24px\">\n",
              "    <path d=\"M0 0h24v24H0V0z\" fill=\"none\"/>\n",
              "    <path d=\"M18.56 5.44l.94 2.06.94-2.06 2.06-.94-2.06-.94-.94-2.06-.94 2.06-2.06.94zm-11 1L8.5 8.5l.94-2.06 2.06-.94-2.06-.94L8.5 2.5l-.94 2.06-2.06.94zm10 10l.94 2.06.94-2.06 2.06-.94-2.06-.94-.94-2.06-.94 2.06-2.06.94z\"/><path d=\"M17.41 7.96l-1.37-1.37c-.4-.4-.92-.59-1.43-.59-.52 0-1.04.2-1.43.59L10.3 9.45l-7.72 7.72c-.78.78-.78 2.05 0 2.83L4 21.41c.39.39.9.59 1.41.59.51 0 1.02-.2 1.41-.59l7.78-7.78 2.81-2.81c.8-.78.8-2.07 0-2.86zM5.41 20L4 18.59l7.72-7.72 1.47 1.35L5.41 20z\"/>\n",
              "  </svg>\n",
              "      </button>\n",
              "      \n",
              "  <style>\n",
              "    .colab-df-container {\n",
              "      display:flex;\n",
              "      flex-wrap:wrap;\n",
              "      gap: 12px;\n",
              "    }\n",
              "\n",
              "    .colab-df-convert {\n",
              "      background-color: #E8F0FE;\n",
              "      border: none;\n",
              "      border-radius: 50%;\n",
              "      cursor: pointer;\n",
              "      display: none;\n",
              "      fill: #1967D2;\n",
              "      height: 32px;\n",
              "      padding: 0 0 0 0;\n",
              "      width: 32px;\n",
              "    }\n",
              "\n",
              "    .colab-df-convert:hover {\n",
              "      background-color: #E2EBFA;\n",
              "      box-shadow: 0px 1px 2px rgba(60, 64, 67, 0.3), 0px 1px 3px 1px rgba(60, 64, 67, 0.15);\n",
              "      fill: #174EA6;\n",
              "    }\n",
              "\n",
              "    [theme=dark] .colab-df-convert {\n",
              "      background-color: #3B4455;\n",
              "      fill: #D2E3FC;\n",
              "    }\n",
              "\n",
              "    [theme=dark] .colab-df-convert:hover {\n",
              "      background-color: #434B5C;\n",
              "      box-shadow: 0px 1px 3px 1px rgba(0, 0, 0, 0.15);\n",
              "      filter: drop-shadow(0px 1px 2px rgba(0, 0, 0, 0.3));\n",
              "      fill: #FFFFFF;\n",
              "    }\n",
              "  </style>\n",
              "\n",
              "      <script>\n",
              "        const buttonEl =\n",
              "          document.querySelector('#df-a3203762-862c-4d9d-add2-ce9e1b523e1c button.colab-df-convert');\n",
              "        buttonEl.style.display =\n",
              "          google.colab.kernel.accessAllowed ? 'block' : 'none';\n",
              "\n",
              "        async function convertToInteractive(key) {\n",
              "          const element = document.querySelector('#df-a3203762-862c-4d9d-add2-ce9e1b523e1c');\n",
              "          const dataTable =\n",
              "            await google.colab.kernel.invokeFunction('convertToInteractive',\n",
              "                                                     [key], {});\n",
              "          if (!dataTable) return;\n",
              "\n",
              "          const docLinkHtml = 'Like what you see? Visit the ' +\n",
              "            '<a target=\"_blank\" href=https://colab.research.google.com/notebooks/data_table.ipynb>data table notebook</a>'\n",
              "            + ' to learn more about interactive tables.';\n",
              "          element.innerHTML = '';\n",
              "          dataTable['output_type'] = 'display_data';\n",
              "          await google.colab.output.renderOutput(dataTable, element);\n",
              "          const docLink = document.createElement('div');\n",
              "          docLink.innerHTML = docLinkHtml;\n",
              "          element.appendChild(docLink);\n",
              "        }\n",
              "      </script>\n",
              "    </div>\n",
              "  </div>\n",
              "  "
            ]
          },
          "metadata": {},
          "execution_count": 4
        }
      ]
    },
    {
      "cell_type": "code",
      "source": [
        "sns.set_style(\"dark\")\n",
        "sns.countplot(df.is_sarcastic)"
      ],
      "metadata": {
        "colab": {
          "base_uri": "https://localhost:8080/",
          "height": 352
        },
        "id": "6iF88NPJHb8d",
        "outputId": "7612318e-3bc1-4472-fb4b-3998046749d7"
      },
      "execution_count": 6,
      "outputs": [
        {
          "output_type": "stream",
          "name": "stderr",
          "text": [
            "/usr/local/lib/python3.8/dist-packages/seaborn/_decorators.py:36: FutureWarning: Pass the following variable as a keyword arg: x. From version 0.12, the only valid positional argument will be `data`, and passing other arguments without an explicit keyword will result in an error or misinterpretation.\n",
            "  warnings.warn(\n"
          ]
        },
        {
          "output_type": "execute_result",
          "data": {
            "text/plain": [
              "<matplotlib.axes._subplots.AxesSubplot at 0x7f164ebb01c0>"
            ]
          },
          "metadata": {},
          "execution_count": 6
        },
        {
          "output_type": "display_data",
          "data": {
            "text/plain": [
              "<Figure size 432x288 with 1 Axes>"
            ],
            "image/png": "[encoded data removed]"
          },
          "metadata": {}
        }
      ]
    },
    {
      "cell_type": "markdown",
      "source": [
        "Our dataset is balanced."
      ],
      "metadata": {
        "id": "Ln730JIcHszC"
      }
    },
    {
      "cell_type": "code",
      "source": [
        "stop = set(stopwords.words('english'))\n",
        "\n",
        "def remove_masked_user(text):\n",
        "    return text.replace('@USER', '')\n",
        "\n",
        "def remove_between_square_brackets(text):\n",
        "    return re.sub('\\[[^]]*\\]', '', text)\n",
        "\n",
        "'''\n",
        "def remove_url(text):\n",
        "  return text.replace('<url>', '')\n",
        "\n",
        "'''\n",
        "\n",
        "def remove_stopwords(text):\n",
        "    final_text = []\n",
        "    for i in text.split():\n",
        "        if i.strip().lower() not in stop:\n",
        "            final_text.append(i.strip())\n",
        "    return \" \".join(final_text)\n",
        "\n",
        "def denoise_text(text):\n",
        "    text = remove_masked_user(text)\n",
        "    text = remove_between_square_brackets(text)\n",
        "    text = remove_stopwords(text)\n",
        "    return text"
      ],
      "metadata": {
        "id": "1Pj3seYWHx1y"
      },
      "execution_count": 7,
      "outputs": []
    },
    {
      "cell_type": "code",
      "source": [
        "#df['response']=df['response'].apply(denoise_text)\n",
        "#print ('<url>' in df['response'] )"
      ],
      "metadata": {
        "id": "PgvDWc_Zgl_7"
      },
      "execution_count": null,
      "outputs": []
    },
    {
      "cell_type": "code",
      "source": [
        "words = []\n",
        "for i in df.headline.values:\n",
        "    words.append(i.split())\n",
        "#words[-1] = words[-1].append('<url>')\n",
        "words[:3]\n"
      ],
      "metadata": {
        "colab": {
          "base_uri": "https://localhost:8080/"
        },
        "id": "zJjHfyycfRBW",
        "outputId": "b2282b00-a2d5-4122-9ea0-13c7b0b767da"
      },
      "execution_count": 9,
      "outputs": [
        {
          "output_type": "execute_result",
          "data": {
            "text/plain": [
              "[['what', 'your', 'brain', 'actually', 'does', 'when', 'you', 'multitask'],\n",
              " [\"'the\",\n",
              "  'daily',\n",
              "  \"show'\",\n",
              "  'puts',\n",
              "  'trump',\n",
              "  'supporters',\n",
              "  'through',\n",
              "  'some',\n",
              "  \"'extreme\",\n",
              "  \"vetting'\"],\n",
              " ['@USER',\n",
              "  'people',\n",
              "  'are',\n",
              "  'walking',\n",
              "  'around',\n",
              "  'like',\n",
              "  'zombies',\n",
              "  ',',\n",
              "  'bursting',\n",
              "  'into',\n",
              "  'tears',\n",
              "  'while',\n",
              "  'talking',\n",
              "  'to',\n",
              "  'complete',\n",
              "  'strangers',\n",
              "  '.',\n",
              "  '#grief',\n",
              "  '#fearYou',\n",
              "  'are',\n",
              "  'an',\n",
              "  'insane',\n",
              "  'person',\n",
              "  '.',\n",
              "  'You',\n",
              "  'think',\n",
              "  'hundreds',\n",
              "  'of',\n",
              "  'thousands',\n",
              "  'of',\n",
              "  'people',\n",
              "  'across',\n",
              "  'the',\n",
              "  'country',\n",
              "  'are',\n",
              "  'not',\n",
              "  'real',\n",
              "  'people',\n",
              "  '?',\n",
              "  \"they're\",\n",
              "  '…',\n",
              "  '<URL>',\n",
              "  '@USER',\n",
              "  \"It's\",\n",
              "  \"Twitter's\",\n",
              "  'fault',\n",
              "  '.',\n",
              "  'Part',\n",
              "  'of',\n",
              "  'me',\n",
              "  'wants',\n",
              "  'to',\n",
              "  'laugh',\n",
              "  'but',\n",
              "  \"it's\",\n",
              "  'not',\n",
              "  'actually',\n",
              "  'remotely',\n",
              "  'funny',\n",
              "  '.',\n",
              "  '@USER',\n",
              "  \"You're\",\n",
              "  'right',\n",
              "  '.',\n",
              "  'On',\n",
              "  'the',\n",
              "  'one',\n",
              "  'hand',\n",
              "  \"it's\",\n",
              "  'hilarious',\n",
              "  '.',\n",
              "  'On',\n",
              "  'the',\n",
              "  'other',\n",
              "  'hand',\n",
              "  ',',\n",
              "  'everyone',\n",
              "  'is',\n",
              "  'scared',\n",
              "  'to',\n",
              "  'death',\n",
              "  '.',\n",
              "  '@USER',\n",
              "  'Yes',\n",
              "  '.',\n",
              "  \"You're\",\n",
              "  'not',\n",
              "  'alone',\n",
              "  '-',\n",
              "  'a',\n",
              "  'lot',\n",
              "  'of',\n",
              "  'us',\n",
              "  'are',\n",
              "  'petrified',\n",
              "  ',',\n",
              "  'but',\n",
              "  'it',\n",
              "  'must',\n",
              "  'be',\n",
              "  'magnified',\n",
              "  'enormously',\n",
              "  'for',\n",
              "  'you',\n",
              "  'in',\n",
              "  'the',\n",
              "  'US',\n",
              "  ':-(']]"
            ]
          },
          "metadata": {},
          "execution_count": 9
        }
      ]
    },
    {
      "cell_type": "code",
      "source": [
        "print('<url>' in words)"
      ],
      "metadata": {
        "colab": {
          "base_uri": "https://localhost:8080/"
        },
        "id": "T_XgUt1IK1CO",
        "outputId": "7313411a-a136-420d-b2fa-bfe22bf765a2"
      },
      "execution_count": 10,
      "outputs": [
        {
          "output_type": "stream",
          "name": "stdout",
          "text": [
            "False\n"
          ]
        }
      ]
    },
    {
      "cell_type": "code",
      "source": [
        "#Dimension of vectors we are generating\n",
        "EMBEDDING_DIM = 200\n",
        "w2v_model = gensim.models.Word2Vec(sentences = words , size=EMBEDDING_DIM , window = 5 , min_count = 1)"
      ],
      "metadata": {
        "id": "7aZ6FwDGIza9"
      },
      "execution_count": 11,
      "outputs": []
    },
    {
      "cell_type": "code",
      "source": [
        "#vocab size\n",
        "len(w2v_model.wv.vocab)"
      ],
      "metadata": {
        "colab": {
          "base_uri": "https://localhost:8080/"
        },
        "id": "G57qajcPJIu_",
        "outputId": "c6cf37f5-5eee-4ff9-86f9-1a0ddc60d885"
      },
      "execution_count": 12,
      "outputs": [
        {
          "output_type": "execute_result",
          "data": {
            "text/plain": [
              "70572"
            ]
          },
          "metadata": {},
          "execution_count": 12
        }
      ]
    },
    {
      "cell_type": "code",
      "source": [
        "#url_token = w2v_model.wv['<url>']"
      ],
      "metadata": {
        "id": "jP25_BATKWNn"
      },
      "execution_count": null,
      "outputs": []
    },
    {
      "cell_type": "code",
      "source": [
        "tokenizer = text.Tokenizer(num_words=35000)\n",
        "tokenizer.fit_on_texts(words)\n",
        "tokenized_train = tokenizer.texts_to_sequences(words)\n",
        "x = pad_sequences(tokenized_train, maxlen = 20)\n",
        "vocab_size = len(tokenizer.word_index) + 1"
      ],
      "metadata": {
        "id": "RkzMqoqEJMBj"
      },
      "execution_count": 13,
      "outputs": []
    },
    {
      "cell_type": "code",
      "source": [
        "def get_weight_matrix(model, vocab):\n",
        "    # total vocabulary size plus 0 for unknown words\n",
        "    vocab_size = len(vocab) + 1\n",
        "    # define weight matrix dimensions with all 0\n",
        "    weight_matrix = np.zeros((vocab_size, EMBEDDING_DIM))\n",
        "    # step vocab, store vectors using the Tokenizer's integer mapping\n",
        "    for word, i in vocab.items():\n",
        "        if '@user' or '<url>' == word: continue\n",
        "        weight_matrix[i] = model[word]\n",
        "    return weight_matrix"
      ],
      "metadata": {
        "id": "77NKyQE8NFIS"
      },
      "execution_count": 14,
      "outputs": []
    },
    {
      "cell_type": "code",
      "source": [
        "embedding_vectors = get_weight_matrix(w2v_model, tokenizer.word_index)"
      ],
      "metadata": {
        "id": "L-95fgTPNKl4"
      },
      "execution_count": 15,
      "outputs": []
    },
    {
      "cell_type": "code",
      "source": [
        "#Defining Neural Network\n",
        "model = Sequential()\n",
        "#Non-trainable embeddidng layer\n",
        "model.add(Embedding(vocab_size, output_dim=EMBEDDING_DIM, weights=[embedding_vectors], input_length=20, trainable=True))\n",
        "#LSTM \n",
        "model.add(Bidirectional(LSTM(units=128 , recurrent_dropout = 0.3 , dropout = 0.3,return_sequences = True)))\n",
        "model.add(Bidirectional(GRU(units=32 , recurrent_dropout = 0.1 , dropout = 0.1)))\n",
        "model.add(Dense(1, activation='sigmoid'))\n",
        "model.compile(optimizer=keras.optimizers.Adam(lr = 0.01), loss='binary_crossentropy', metrics=['acc'])\n",
        "\n",
        "del embedding_vectors"
      ],
      "metadata": {
        "id": "re-hsn4Zjl9n",
        "outputId": "6a536c01-cd57-474c-993a-e7184a7d5095",
        "colab": {
          "base_uri": "https://localhost:8080/"
        }
      },
      "execution_count": 16,
      "outputs": [
        {
          "output_type": "stream",
          "name": "stderr",
          "text": [
            "/usr/local/lib/python3.8/dist-packages/keras/optimizers/optimizer_v2/adam.py:110: UserWarning: The `lr` argument is deprecated, use `learning_rate` instead.\n",
            "  super(Adam, self).__init__(name, **kwargs)\n"
          ]
        }
      ]
    },
    {
      "cell_type": "code",
      "source": [
        "model.summary()"
      ],
      "metadata": {
        "colab": {
          "base_uri": "https://localhost:8080/"
        },
        "id": "jmsojhq7jowl",
        "outputId": "1da9f261-c250-4be9-ab7c-9a9df31d020c"
      },
      "execution_count": 17,
      "outputs": [
        {
          "output_type": "stream",
          "name": "stdout",
          "text": [
            "Model: \"sequential\"\n",
            "_________________________________________________________________\n",
            " Layer (type)                Output Shape              Param #   \n",
            "=================================================================\n",
            " embedding (Embedding)       (None, 20, 200)           12184400  \n",
            "                                                                 \n",
            " bidirectional (Bidirectiona  (None, 20, 256)          336896    \n",
            " l)                                                              \n",
            "                                                                 \n",
            " bidirectional_1 (Bidirectio  (None, 64)               55680     \n",
            " nal)                                                            \n",
            "                                                                 \n",
            " dense (Dense)               (None, 1)                 65        \n",
            "                                                                 \n",
            "=================================================================\n",
            "Total params: 12,577,041\n",
            "Trainable params: 12,577,041\n",
            "Non-trainable params: 0\n",
            "_________________________________________________________________\n"
          ]
        }
      ]
    },
    {
      "cell_type": "code",
      "source": [
        "x_train, x_test, y_train, y_test = train_test_split(x, df.is_sarcastic , test_size = 0.3 , random_state = 0) "
      ],
      "metadata": {
        "id": "sJ7tlmD5jrNY"
      },
      "execution_count": 18,
      "outputs": []
    },
    {
      "cell_type": "code",
      "source": [
        "df.is_sarcastic"
      ],
      "metadata": {
        "id": "ls97sliWY61W",
        "outputId": "dfac0863-f7e1-4e5f-e2fb-e0b60449c9c5",
        "colab": {
          "base_uri": "https://localhost:8080/"
        }
      },
      "execution_count": 19,
      "outputs": [
        {
          "output_type": "execute_result",
          "data": {
            "text/plain": [
              "0        0\n",
              "1        0\n",
              "2        0\n",
              "3        0\n",
              "4        1\n",
              "        ..\n",
              "31704    0\n",
              "31705    0\n",
              "31706    0\n",
              "31707    1\n",
              "31708    1\n",
              "Name: is_sarcastic, Length: 31709, dtype: int64"
            ]
          },
          "metadata": {},
          "execution_count": 19
        }
      ]
    },
    {
      "cell_type": "code",
      "source": [
        "sns.set_style(\"dark\")\n",
        "sns.countplot(y_test)"
      ],
      "metadata": {
        "colab": {
          "base_uri": "https://localhost:8080/",
          "height": 352
        },
        "id": "pbnztd7CYav_",
        "outputId": "bbcbfa2f-b19b-480d-e389-b61bd624c2f4"
      },
      "execution_count": 20,
      "outputs": [
        {
          "output_type": "stream",
          "name": "stderr",
          "text": [
            "/usr/local/lib/python3.8/dist-packages/seaborn/_decorators.py:36: FutureWarning: Pass the following variable as a keyword arg: x. From version 0.12, the only valid positional argument will be `data`, and passing other arguments without an explicit keyword will result in an error or misinterpretation.\n",
            "  warnings.warn(\n"
          ]
        },
        {
          "output_type": "execute_result",
          "data": {
            "text/plain": [
              "<matplotlib.axes._subplots.AxesSubplot at 0x7f1647841f40>"
            ]
          },
          "metadata": {},
          "execution_count": 20
        },
        {
          "output_type": "display_data",
          "data": {
            "text/plain": [
              "<Figure size 432x288 with 1 Axes>"
            ],
            "image/png": "[encoded data removed]"
          },
          "metadata": {}
        }
      ]
    },
    {
      "cell_type": "code",
      "source": [
        "history = model.fit(x_train, y_train, batch_size = 128 , validation_data = (x_test,y_test) , epochs = 15)"
      ],
      "metadata": {
        "colab": {
          "base_uri": "https://localhost:8080/"
        },
        "id": "6hcrj1LNjtpc",
        "outputId": "a4f29bd2-b76b-4260-8259-3ca77bab1f5f"
      },
      "execution_count": 21,
      "outputs": [
        {
          "metadata": {
            "tags": null
          },
          "name": "stdout",
          "output_type": "stream",
          "text": [
            "Epoch 1/15\n",
            "174/174 [==============================] - 132s 695ms/step - loss: 0.4649 - acc: 0.7727 - val_loss: 0.3783 - val_acc: 0.8220\n",
            "Epoch 2/15\n",
            "174/174 [==============================] - 116s 668ms/step - loss: 0.2102 - acc: 0.9099 - val_loss: 0.4315 - val_acc: 0.8161\n",
            "Epoch 3/15\n",
            "174/174 [==============================] - 117s 671ms/step - loss: 0.0989 - acc: 0.9618 - val_loss: 0.5480 - val_acc: 0.8079\n",
            "Epoch 4/15\n",
            "174/174 [==============================] - 114s 657ms/step - loss: 0.0455 - acc: 0.9827 - val_loss: 0.7954 - val_acc: 0.8064\n",
            "Epoch 5/15\n",
            "174/174 [==============================] - 116s 664ms/step - loss: 0.0277 - acc: 0.9904 - val_loss: 0.9695 - val_acc: 0.8036\n",
            "Epoch 6/15\n",
            "174/174 [==============================] - 115s 662ms/step - loss: 0.0204 - acc: 0.9929 - val_loss: 1.0989 - val_acc: 0.8056\n",
            "Epoch 7/15\n",
            "174/174 [==============================] - 115s 660ms/step - loss: 0.0171 - acc: 0.9946 - val_loss: 1.1002 - val_acc: 0.8001\n",
            "Epoch 8/15\n",
            "174/174 [==============================] - 119s 682ms/step - loss: 0.0100 - acc: 0.9965 - val_loss: 1.2326 - val_acc: 0.8005\n",
            "Epoch 9/15\n",
            "174/174 [==============================] - 116s 664ms/step - loss: 0.0071 - acc: 0.9977 - val_loss: 1.3212 - val_acc: 0.8037\n",
            "Epoch 10/15\n",
            "174/174 [==============================] - 115s 663ms/step - loss: 0.0083 - acc: 0.9973 - val_loss: 1.4115 - val_acc: 0.7976\n",
            "Epoch 11/15\n",
            "174/174 [==============================] - 115s 662ms/step - loss: 0.0133 - acc: 0.9953 - val_loss: 1.3133 - val_acc: 0.7986\n",
            "Epoch 12/15\n",
            "174/174 [==============================] - 113s 651ms/step - loss: 0.0141 - acc: 0.9951 - val_loss: 1.1512 - val_acc: 0.7989\n",
            "Epoch 13/15\n",
            "174/174 [==============================] - 115s 658ms/step - loss: 0.0193 - acc: 0.9934 - val_loss: 1.1603 - val_acc: 0.7953\n",
            "Epoch 14/15\n",
            "174/174 [==============================] - 114s 657ms/step - loss: 0.0148 - acc: 0.9953 - val_loss: 1.4413 - val_acc: 0.7949\n",
            "Epoch 15/15\n",
            "174/174 [==============================] - 113s 647ms/step - loss: 0.0118 - acc: 0.9959 - val_loss: 1.5070 - val_acc: 0.7982\n"
          ]
        }
      ]
    },
    {
      "cell_type": "code",
      "source": [
        "print(\"Accuracy of the model on Training Data is - \" , model.evaluate(x_train,y_train)[1]*100)\n",
        "print(\"Accuracy of the model on Testing Data is - \" , model.evaluate(x_test,y_test)[1]*100)"
      ],
      "metadata": {
        "colab": {
          "base_uri": "https://localhost:8080/"
        },
        "id": "cAuF3AYQjxgA",
        "outputId": "a719303d-0bf3-4742-db38-51e126dbb8f6"
      },
      "execution_count": 22,
      "outputs": [
        {
          "output_type": "stream",
          "name": "stdout",
          "text": [
            "694/694 [==============================] - 41s 58ms/step - loss: 0.0039 - acc: 0.9988\n",
            "Accuracy of the model on Training Data is -  99.88285899162292\n",
            "298/298 [==============================] - 8s 27ms/step - loss: 1.5070 - acc: 0.7982\n",
            "Accuracy of the model on Testing Data is -  79.81709241867065\n"
          ]
        }
      ]
    },
    {
      "cell_type": "code",
      "source": [
        "epochs = [i for i in range(15)]\n",
        "fig , ax = plt.subplots(1,2)\n",
        "train_acc = history.history['acc']\n",
        "train_loss = history.history['loss']\n",
        "val_acc = history.history['val_acc']\n",
        "val_loss = history.history['val_loss']\n",
        "fig.set_size_inches(20,10)\n",
        "\n",
        "ax[0].plot(epochs , train_acc , 'go-' , label = 'Training Accuracy')\n",
        "ax[0].plot(epochs , val_acc , 'ro-' , label = 'Testing Accuracy')\n",
        "ax[0].set_title('Training & Testing Accuracy')\n",
        "ax[0].legend()\n",
        "ax[0].set_xlabel(\"Epochs\")\n",
        "ax[0].set_ylabel(\"Accuracy\")\n",
        "\n",
        "ax[1].plot(epochs , train_loss , 'go-' , label = 'Training Loss')\n",
        "ax[1].plot(epochs , val_loss , 'ro-' , label = 'Testing Loss')\n",
        "ax[1].set_title('Training & Testing Loss')\n",
        "ax[1].legend()\n",
        "ax[1].set_xlabel(\"Epochs\")\n",
        "ax[1].set_ylabel(\"Loss\")\n",
        "plt.show()"
      ],
      "metadata": {
        "colab": {
          "base_uri": "https://localhost:8080/",
          "height": 621
        },
        "id": "vJ8LjnBQjypR",
        "outputId": "bc66ccec-192b-4837-d22a-6e5dcacf146d"
      },
      "execution_count": 23,
      "outputs": [
        {
          "output_type": "display_data",
          "data": {
            "text/plain": [
              "<Figure size 1440x720 with 2 Axes>"
            ],
            "image/png": "[encoded data removed]"
          },
          "metadata": {}
        }
      ]
    },
    {
      "cell_type": "code",
      "source": [
        "y_proba = model.predict_on_batch(x_test)\n",
        "y_pred = y_proba.argmax(axis=-1)"
      ],
      "metadata": {
        "id": "KzzcWzV7j7cn"
      },
      "execution_count": 24,
      "outputs": []
    },
    {
      "cell_type": "code",
      "source": [
        "cm = confusion_matrix(y_test,y_pred)\n",
        "cm"
      ],
      "metadata": {
        "colab": {
          "base_uri": "https://localhost:8080/"
        },
        "id": "_Jj79yhCj8NW",
        "outputId": "afcda9cb-c21a-48f2-b1d7-4106746edc61"
      },
      "execution_count": 25,
      "outputs": [
        {
          "output_type": "execute_result",
          "data": {
            "text/plain": [
              "array([[5319,    0],\n",
              "       [4194,    0]])"
            ]
          },
          "metadata": {},
          "execution_count": 25
        }
      ]
    },
    {
      "cell_type": "code",
      "source": [
        "cm = pd.DataFrame(cm , index = ['Not Sarcastic','Sarcastic'] , columns = ['Not Sarcastic','Sarcastic'])\n",
        "plt.figure(figsize = (10,10))\n",
        "sns.heatmap(cm,cmap= \"Blues\", linecolor = 'black' , linewidth = 1 , annot = True, fmt='' , xticklabels = ['Not Sarcastic','Sarcastic'] , yticklabels = ['Not Sarcastic','Sarcastic'])"
      ],
      "metadata": {
        "colab": {
          "base_uri": "https://localhost:8080/",
          "height": 609
        },
        "id": "PvHDNkK8j9_I",
        "outputId": "ba27601c-d69f-4dd2-8c52-e7fb9095032d"
      },
      "execution_count": 26,
      "outputs": [
        {
          "output_type": "execute_result",
          "data": {
            "text/plain": [
              "<matplotlib.axes._subplots.AxesSubplot at 0x7f16475da280>"
            ]
          },
          "metadata": {},
          "execution_count": 26
        },
        {
          "output_type": "display_data",
          "data": {
            "text/plain": [
              "<Figure size 720x720 with 2 Axes>"
            ],
            "image/png": "[encoded data removed]"
          },
          "metadata": {}
        }
      ]
    }
  ]
}
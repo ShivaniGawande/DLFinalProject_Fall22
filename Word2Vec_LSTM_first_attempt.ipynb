{
  "nbformat": 4,
  "nbformat_minor": 0,
  "metadata": {
    "colab": {
      "provenance": []
    },
    "kernelspec": {
      "name": "python3",
      "display_name": "Python 3"
    },
    "language_info": {
      "name": "python"
    },
    "accelerator": "GPU",
    "gpuClass": "standard"
  },
  "cells": [
    {
      "cell_type": "markdown",
      "source": [
        "Importing Libraries"
      ],
      "metadata": {
        "id": "NBYMFF_plO5f"
      }
    },
    {
      "cell_type": "code",
      "source": [
        "from pydrive.auth import GoogleAuth\n",
        "from google.colab import drive\n",
        "from pydrive.drive import GoogleDrive\n",
        "from google.colab import auth\n",
        "from oauth2client.client import GoogleCredentials\n",
        "import numpy as np \n",
        "import pandas as pd\n",
        "import seaborn as sns\n",
        "import gensim\n",
        "import re, string, unicodedata\n",
        "from keras_preprocessing.sequence import pad_sequences\n",
        "from keras.preprocessing import text, sequence\n",
        "import matplotlib.pyplot as plt\n",
        "import nltk\n",
        "nltk.download('stopwords')\n",
        "from nltk.corpus import stopwords\n",
        "from keras.models import Sequential\n",
        "from keras.layers import Dense,Embedding,LSTM,Dropout,Bidirectional,GRU\n",
        "import tensorflow as tf\n",
        "import keras\n",
        "from sklearn.model_selection import train_test_split\n",
        "from sklearn.metrics import classification_report, confusion_matrix, accuracy_score"
      ],
      "metadata": {
        "id": "SI6Ta6-FlZl2",
        "colab": {
          "base_uri": "https://localhost:8080/"
        },
        "outputId": "5e6b1b72-0b8b-47a4-e8aa-9e22bcf766e6"
      },
      "execution_count": 1,
      "outputs": [
        {
          "output_type": "stream",
          "name": "stderr",
          "text": [
            "[nltk_data] Downloading package stopwords to /root/nltk_data...\n",
            "[nltk_data]   Unzipping corpora/stopwords.zip.\n"
          ]
        }
      ]
    },
    {
      "cell_type": "markdown",
      "source": [
        "Loading Dataset"
      ],
      "metadata": {
        "id": "dHK0N_QYlYeS"
      }
    },
    {
      "cell_type": "code",
      "source": [
        "#loading data from google drive\n",
        "auth.authenticate_user()\n",
        "gauth = GoogleAuth()\n",
        "gauth.credentials = GoogleCredentials.get_application_default()\n",
        "drive = GoogleDrive(gauth)\n",
        "\n",
        "#train_file_id = '15NNft0C1CKlKDzjUKbAgibbXTFe8NFgG'\n",
        "test_file_id = '1J4K-z82tEr4jkwG1Hl1t-eigpcivqt3k' \n",
        "'''\n",
        "download = drive.CreateFile({'id': train_file_id})\n",
        "download.GetContentFile('train.csv')\n",
        "train_data  = pd.read_csv(\"train.csv\")\n",
        "train_data.head()\n",
        "'''\n",
        "url = \"https://raw.githubusercontent.com/EducationalTestingService/sarcasm/master/twitter/sarcasm_detection_shared_task_twitter_training.jsonl\"\n",
        "df = pd.read_json(url, lines=True)\n",
        "print(df.head())\n",
        "     "
      ],
      "metadata": {
        "id": "TyrXSprclc2O",
        "colab": {
          "base_uri": "https://localhost:8080/"
        },
        "outputId": "dd223fd2-c815-4fd5-ab19-5b0c3d3c4bbc"
      },
      "execution_count": 2,
      "outputs": [
        {
          "output_type": "stream",
          "name": "stdout",
          "text": [
            "     label                                           response  \\\n",
            "0  SARCASM  @USER @USER @USER I don't get this .. obviousl...   \n",
            "1  SARCASM  @USER @USER trying to protest about . Talking ...   \n",
            "2  SARCASM  @USER @USER @USER He makes an insane about of ...   \n",
            "3  SARCASM  @USER @USER Meanwhile Trump won't even release...   \n",
            "4  SARCASM  @USER @USER Pretty Sure the Anti-Lincoln Crowd...   \n",
            "\n",
            "                                             context  \n",
            "0  [A minor child deserves privacy and should be ...  \n",
            "1  [@USER @USER Why is he a loser ? He's just a P...  \n",
            "2  [Donald J . Trump is guilty as charged . The e...  \n",
            "3  [Jamie Raskin tanked Doug Collins . Collins lo...  \n",
            "4  [Man ... y ’ all gone “ both sides ” the apoca...  \n"
          ]
        }
      ]
    },
    {
      "cell_type": "code",
      "source": [
        "'''download = drive.CreateFile({'id': test_file_id})\n",
        "download.GetContentFile('test.csv')\n",
        "test_data  = pd.read_csv(\"test.csv\")\n",
        "test_data.head()\n",
        "'''"
      ],
      "metadata": {
        "colab": {
          "base_uri": "https://localhost:8080/",
          "height": 35
        },
        "id": "PyGalQEJqO4H",
        "outputId": "93f1de7b-2a8c-4801-e87a-f5415410d7aa"
      },
      "execution_count": null,
      "outputs": [
        {
          "output_type": "execute_result",
          "data": {
            "text/plain": [
              "'download = drive.CreateFile({\\'id\\': test_file_id})\\ndownload.GetContentFile(\\'test.csv\\')\\ntest_data  = pd.read_csv(\"test.csv\")\\ntest_data.head()\\n'"
            ],
            "application/vnd.google.colaboratory.intrinsic+json": {
              "type": "string"
            }
          },
          "metadata": {},
          "execution_count": 12
        }
      ]
    },
    {
      "cell_type": "markdown",
      "source": [
        "#Model Implementation"
      ],
      "metadata": {
        "id": "XkhecrYnnD3v"
      }
    },
    {
      "cell_type": "markdown",
      "source": [
        "Baseline model - word2vec"
      ],
      "metadata": {
        "id": "obA3ecCGnI79"
      }
    },
    {
      "cell_type": "code",
      "source": [
        "df.isna().sum() # Checking for NaN values"
      ],
      "metadata": {
        "id": "RIN8QZqtnMCF",
        "colab": {
          "base_uri": "https://localhost:8080/"
        },
        "outputId": "c6ade3b9-dd76-4b20-b981-b829c63089fc"
      },
      "execution_count": 3,
      "outputs": [
        {
          "output_type": "execute_result",
          "data": {
            "text/plain": [
              "label       0\n",
              "response    0\n",
              "context     0\n",
              "dtype: int64"
            ]
          },
          "metadata": {},
          "execution_count": 3
        }
      ]
    },
    {
      "cell_type": "code",
      "source": [
        "df.head()"
      ],
      "metadata": {
        "colab": {
          "base_uri": "https://localhost:8080/",
          "height": 206
        },
        "id": "MGb-nF7fHW4u",
        "outputId": "7edc3e70-aa1f-43b2-9dad-01150e4ec4ee"
      },
      "execution_count": 4,
      "outputs": [
        {
          "output_type": "execute_result",
          "data": {
            "text/plain": [
              "     label                                           response  \\\n",
              "0  SARCASM  @USER @USER @USER I don't get this .. obviousl...   \n",
              "1  SARCASM  @USER @USER trying to protest about . Talking ...   \n",
              "2  SARCASM  @USER @USER @USER He makes an insane about of ...   \n",
              "3  SARCASM  @USER @USER Meanwhile Trump won't even release...   \n",
              "4  SARCASM  @USER @USER Pretty Sure the Anti-Lincoln Crowd...   \n",
              "\n",
              "                                             context  \n",
              "0  [A minor child deserves privacy and should be ...  \n",
              "1  [@USER @USER Why is he a loser ? He's just a P...  \n",
              "2  [Donald J . Trump is guilty as charged . The e...  \n",
              "3  [Jamie Raskin tanked Doug Collins . Collins lo...  \n",
              "4  [Man ... y ’ all gone “ both sides ” the apoca...  "
            ],
            "text/html": [
              "\n",
              "  <div id=\"df-3dd49632-97ef-47f1-bffe-47d361a8d1f6\">\n",
              "    <div class=\"colab-df-container\">\n",
              "      <div>\n",
              "<style scoped>\n",
              "    .dataframe tbody tr th:only-of-type {\n",
              "        vertical-align: middle;\n",
              "    }\n",
              "\n",
              "    .dataframe tbody tr th {\n",
              "        vertical-align: top;\n",
              "    }\n",
              "\n",
              "    .dataframe thead th {\n",
              "        text-align: right;\n",
              "    }\n",
              "</style>\n",
              "<table border=\"1\" class=\"dataframe\">\n",
              "  <thead>\n",
              "    <tr style=\"text-align: right;\">\n",
              "      <th></th>\n",
              "      <th>label</th>\n",
              "      <th>response</th>\n",
              "      <th>context</th>\n",
              "    </tr>\n",
              "  </thead>\n",
              "  <tbody>\n",
              "    <tr>\n",
              "      <th>0</th>\n",
              "      <td>SARCASM</td>\n",
              "      <td>@USER @USER @USER I don't get this .. obviousl...</td>\n",
              "      <td>[A minor child deserves privacy and should be ...</td>\n",
              "    </tr>\n",
              "    <tr>\n",
              "      <th>1</th>\n",
              "      <td>SARCASM</td>\n",
              "      <td>@USER @USER trying to protest about . Talking ...</td>\n",
              "      <td>[@USER @USER Why is he a loser ? He's just a P...</td>\n",
              "    </tr>\n",
              "    <tr>\n",
              "      <th>2</th>\n",
              "      <td>SARCASM</td>\n",
              "      <td>@USER @USER @USER He makes an insane about of ...</td>\n",
              "      <td>[Donald J . Trump is guilty as charged . The e...</td>\n",
              "    </tr>\n",
              "    <tr>\n",
              "      <th>3</th>\n",
              "      <td>SARCASM</td>\n",
              "      <td>@USER @USER Meanwhile Trump won't even release...</td>\n",
              "      <td>[Jamie Raskin tanked Doug Collins . Collins lo...</td>\n",
              "    </tr>\n",
              "    <tr>\n",
              "      <th>4</th>\n",
              "      <td>SARCASM</td>\n",
              "      <td>@USER @USER Pretty Sure the Anti-Lincoln Crowd...</td>\n",
              "      <td>[Man ... y ’ all gone “ both sides ” the apoca...</td>\n",
              "    </tr>\n",
              "  </tbody>\n",
              "</table>\n",
              "</div>\n",
              "      <button class=\"colab-df-convert\" onclick=\"convertToInteractive('df-3dd49632-97ef-47f1-bffe-47d361a8d1f6')\"\n",
              "              title=\"Convert this dataframe to an interactive table.\"\n",
              "              style=\"display:none;\">\n",
              "        \n",
              "  <svg xmlns=\"http://www.w3.org/2000/svg\" height=\"24px\"viewBox=\"0 0 24 24\"\n",
              "       width=\"24px\">\n",
              "    <path d=\"M0 0h24v24H0V0z\" fill=\"none\"/>\n",
              "    <path d=\"M18.56 5.44l.94 2.06.94-2.06 2.06-.94-2.06-.94-.94-2.06-.94 2.06-2.06.94zm-11 1L8.5 8.5l.94-2.06 2.06-.94-2.06-.94L8.5 2.5l-.94 2.06-2.06.94zm10 10l.94 2.06.94-2.06 2.06-.94-2.06-.94-.94-2.06-.94 2.06-2.06.94z\"/><path d=\"M17.41 7.96l-1.37-1.37c-.4-.4-.92-.59-1.43-.59-.52 0-1.04.2-1.43.59L10.3 9.45l-7.72 7.72c-.78.78-.78 2.05 0 2.83L4 21.41c.39.39.9.59 1.41.59.51 0 1.02-.2 1.41-.59l7.78-7.78 2.81-2.81c.8-.78.8-2.07 0-2.86zM5.41 20L4 18.59l7.72-7.72 1.47 1.35L5.41 20z\"/>\n",
              "  </svg>\n",
              "      </button>\n",
              "      \n",
              "  <style>\n",
              "    .colab-df-container {\n",
              "      display:flex;\n",
              "      flex-wrap:wrap;\n",
              "      gap: 12px;\n",
              "    }\n",
              "\n",
              "    .colab-df-convert {\n",
              "      background-color: #E8F0FE;\n",
              "      border: none;\n",
              "      border-radius: 50%;\n",
              "      cursor: pointer;\n",
              "      display: none;\n",
              "      fill: #1967D2;\n",
              "      height: 32px;\n",
              "      padding: 0 0 0 0;\n",
              "      width: 32px;\n",
              "    }\n",
              "\n",
              "    .colab-df-convert:hover {\n",
              "      background-color: #E2EBFA;\n",
              "      box-shadow: 0px 1px 2px rgba(60, 64, 67, 0.3), 0px 1px 3px 1px rgba(60, 64, 67, 0.15);\n",
              "      fill: #174EA6;\n",
              "    }\n",
              "\n",
              "    [theme=dark] .colab-df-convert {\n",
              "      background-color: #3B4455;\n",
              "      fill: #D2E3FC;\n",
              "    }\n",
              "\n",
              "    [theme=dark] .colab-df-convert:hover {\n",
              "      background-color: #434B5C;\n",
              "      box-shadow: 0px 1px 3px 1px rgba(0, 0, 0, 0.15);\n",
              "      filter: drop-shadow(0px 1px 2px rgba(0, 0, 0, 0.3));\n",
              "      fill: #FFFFFF;\n",
              "    }\n",
              "  </style>\n",
              "\n",
              "      <script>\n",
              "        const buttonEl =\n",
              "          document.querySelector('#df-3dd49632-97ef-47f1-bffe-47d361a8d1f6 button.colab-df-convert');\n",
              "        buttonEl.style.display =\n",
              "          google.colab.kernel.accessAllowed ? 'block' : 'none';\n",
              "\n",
              "        async function convertToInteractive(key) {\n",
              "          const element = document.querySelector('#df-3dd49632-97ef-47f1-bffe-47d361a8d1f6');\n",
              "          const dataTable =\n",
              "            await google.colab.kernel.invokeFunction('convertToInteractive',\n",
              "                                                     [key], {});\n",
              "          if (!dataTable) return;\n",
              "\n",
              "          const docLinkHtml = 'Like what you see? Visit the ' +\n",
              "            '<a target=\"_blank\" href=https://colab.research.google.com/notebooks/data_table.ipynb>data table notebook</a>'\n",
              "            + ' to learn more about interactive tables.';\n",
              "          element.innerHTML = '';\n",
              "          dataTable['output_type'] = 'display_data';\n",
              "          await google.colab.output.renderOutput(dataTable, element);\n",
              "          const docLink = document.createElement('div');\n",
              "          docLink.innerHTML = docLinkHtml;\n",
              "          element.appendChild(docLink);\n",
              "        }\n",
              "      </script>\n",
              "    </div>\n",
              "  </div>\n",
              "  "
            ]
          },
          "metadata": {},
          "execution_count": 4
        }
      ]
    },
    {
      "cell_type": "code",
      "source": [
        "sns.set_style(\"dark\")\n",
        "sns.countplot(df.label)"
      ],
      "metadata": {
        "colab": {
          "base_uri": "https://localhost:8080/",
          "height": 352
        },
        "id": "6iF88NPJHb8d",
        "outputId": "8a4d5f64-a802-4e3e-8af1-6f2158f6d909"
      },
      "execution_count": 5,
      "outputs": [
        {
          "output_type": "stream",
          "name": "stderr",
          "text": [
            "/usr/local/lib/python3.8/dist-packages/seaborn/_decorators.py:36: FutureWarning: Pass the following variable as a keyword arg: x. From version 0.12, the only valid positional argument will be `data`, and passing other arguments without an explicit keyword will result in an error or misinterpretation.\n",
            "  warnings.warn(\n"
          ]
        },
        {
          "output_type": "execute_result",
          "data": {
            "text/plain": [
              "<matplotlib.axes._subplots.AxesSubplot at 0x7fa5f4010220>"
            ]
          },
          "metadata": {},
          "execution_count": 5
        },
        {
          "output_type": "display_data",
          "data": {
            "text/plain": [
              "<Figure size 432x288 with 1 Axes>"
            ],
            "image/png": "[encoded data removed]"
          },
          "metadata": {}
        }
      ]
    },
    {
      "cell_type": "markdown",
      "source": [
        "Our dataset is balanced."
      ],
      "metadata": {
        "id": "Ln730JIcHszC"
      }
    },
    {
      "cell_type": "code",
      "source": [
        "stop = set(stopwords.words('english'))\n",
        "\n",
        "def remove_masked_user(text):\n",
        "    return text.replace('@USER', '')\n",
        "\n",
        "def remove_between_square_brackets(text):\n",
        "    return re.sub('\\[[^]]*\\]', '', text)\n",
        "\n",
        "'''\n",
        "def remove_url(text):\n",
        "  return text.replace('<url>', '')\n",
        "\n",
        "'''\n",
        "\n",
        "def remove_stopwords(text):\n",
        "    final_text = []\n",
        "    for i in text.split():\n",
        "        if i.strip().lower() not in stop:\n",
        "            final_text.append(i.strip())\n",
        "    return \" \".join(final_text)\n",
        "\n",
        "def denoise_text(text):\n",
        "    text = remove_masked_user(text)\n",
        "    text = remove_between_square_brackets(text)\n",
        "    text = remove_stopwords(text)\n",
        "    return text"
      ],
      "metadata": {
        "id": "1Pj3seYWHx1y"
      },
      "execution_count": 6,
      "outputs": []
    },
    {
      "cell_type": "code",
      "source": [
        "#df['response']=df['response'].apply(denoise_text)\n",
        "#print ('<url>' in df['response'] )"
      ],
      "metadata": {
        "id": "PgvDWc_Zgl_7"
      },
      "execution_count": null,
      "outputs": []
    },
    {
      "cell_type": "code",
      "source": [
        "words = []\n",
        "for i in df.response.values:\n",
        "    words.append(i.split())\n",
        "#words[-1] = words[-1].append('<url>')\n",
        "words[:3]\n"
      ],
      "metadata": {
        "colab": {
          "base_uri": "https://localhost:8080/"
        },
        "id": "zJjHfyycfRBW",
        "outputId": "2c4b497a-5d4e-4145-c6e4-329aee9502fc"
      },
      "execution_count": 7,
      "outputs": [
        {
          "output_type": "execute_result",
          "data": {
            "text/plain": [
              "[['@USER',\n",
              "  '@USER',\n",
              "  '@USER',\n",
              "  'I',\n",
              "  \"don't\",\n",
              "  'get',\n",
              "  'this',\n",
              "  '..',\n",
              "  'obviously',\n",
              "  'you',\n",
              "  'do',\n",
              "  'care',\n",
              "  'or',\n",
              "  'you',\n",
              "  \"would've\",\n",
              "  'moved',\n",
              "  'right',\n",
              "  'along',\n",
              "  '..',\n",
              "  'instead',\n",
              "  'you',\n",
              "  'decided',\n",
              "  'to',\n",
              "  'care',\n",
              "  'and',\n",
              "  'troll',\n",
              "  'her',\n",
              "  '..'],\n",
              " ['@USER',\n",
              "  '@USER',\n",
              "  'trying',\n",
              "  'to',\n",
              "  'protest',\n",
              "  'about',\n",
              "  '.',\n",
              "  'Talking',\n",
              "  'about',\n",
              "  'him',\n",
              "  'and',\n",
              "  'his',\n",
              "  'labels',\n",
              "  'and',\n",
              "  'they',\n",
              "  'label',\n",
              "  'themselves',\n",
              "  'WTF',\n",
              "  'does',\n",
              "  'that',\n",
              "  'make',\n",
              "  'em',\n",
              "  '?'],\n",
              " ['@USER',\n",
              "  '@USER',\n",
              "  '@USER',\n",
              "  'He',\n",
              "  'makes',\n",
              "  'an',\n",
              "  'insane',\n",
              "  'about',\n",
              "  'of',\n",
              "  'money',\n",
              "  'from',\n",
              "  'the',\n",
              "  'MOVIES',\n",
              "  ',',\n",
              "  'Einstein',\n",
              "  '!',\n",
              "  '#LearnHowTheSystemWorks']]"
            ]
          },
          "metadata": {},
          "execution_count": 7
        }
      ]
    },
    {
      "cell_type": "code",
      "source": [
        "context = []\n",
        "for indx, i in enumerate(df.context.values):\n",
        "    context.append(''.join(df.context.values[indx]).split())\n",
        "#words[-1] = words[-1].append('<url>')\n",
        "context[:3]"
      ],
      "metadata": {
        "colab": {
          "base_uri": "https://localhost:8080/"
        },
        "id": "T_XgUt1IK1CO",
        "outputId": "2b4cc9ec-3030-42a5-e22c-40fab52d5739"
      },
      "execution_count": 8,
      "outputs": [
        {
          "output_type": "execute_result",
          "data": {
            "text/plain": [
              "[['A',\n",
              "  'minor',\n",
              "  'child',\n",
              "  'deserves',\n",
              "  'privacy',\n",
              "  'and',\n",
              "  'should',\n",
              "  'be',\n",
              "  'kept',\n",
              "  'out',\n",
              "  'of',\n",
              "  'politics',\n",
              "  '.',\n",
              "  'Pamela',\n",
              "  'Karlan',\n",
              "  ',',\n",
              "  'you',\n",
              "  'should',\n",
              "  'be',\n",
              "  'ashamed',\n",
              "  'of',\n",
              "  'your',\n",
              "  'very',\n",
              "  'angry',\n",
              "  'and',\n",
              "  'obviously',\n",
              "  'biased',\n",
              "  'public',\n",
              "  'pandering',\n",
              "  ',',\n",
              "  'and',\n",
              "  'using',\n",
              "  'a',\n",
              "  'child',\n",
              "  'to',\n",
              "  'do',\n",
              "  'it',\n",
              "  '.@USER',\n",
              "  'If',\n",
              "  'your',\n",
              "  'child',\n",
              "  \"isn't\",\n",
              "  'named',\n",
              "  'Barron',\n",
              "  '...',\n",
              "  '#BeBest',\n",
              "  'Melania',\n",
              "  \"couldn't\",\n",
              "  'care',\n",
              "  'less',\n",
              "  '.',\n",
              "  'Fact',\n",
              "  '.',\n",
              "  '💯'],\n",
              " ['@USER',\n",
              "  '@USER',\n",
              "  'Why',\n",
              "  'is',\n",
              "  'he',\n",
              "  'a',\n",
              "  'loser',\n",
              "  '?',\n",
              "  \"He's\",\n",
              "  'just',\n",
              "  'a',\n",
              "  'Press',\n",
              "  'Secretary@USER',\n",
              "  '@USER',\n",
              "  'having',\n",
              "  'to',\n",
              "  'make',\n",
              "  'up',\n",
              "  'excuses',\n",
              "  'of',\n",
              "  'why',\n",
              "  'your',\n",
              "  'crowd',\n",
              "  'was',\n",
              "  'small',\n",
              "  '.'],\n",
              " ['Donald',\n",
              "  'J',\n",
              "  '.',\n",
              "  'Trump',\n",
              "  'is',\n",
              "  'guilty',\n",
              "  'as',\n",
              "  'charged',\n",
              "  '.',\n",
              "  'The',\n",
              "  'evidence',\n",
              "  'is',\n",
              "  'clear',\n",
              "  '.',\n",
              "  'If',\n",
              "  'your',\n",
              "  'Senator',\n",
              "  'votes',\n",
              "  'to',\n",
              "  'acquit',\n",
              "  ',',\n",
              "  'remember',\n",
              "  'him',\n",
              "  '/',\n",
              "  'her',\n",
              "  'at',\n",
              "  'the',\n",
              "  'ballot',\n",
              "  'box',\n",
              "  '.@USER',\n",
              "  'I',\n",
              "  '’',\n",
              "  'll',\n",
              "  'remember',\n",
              "  'to',\n",
              "  'not',\n",
              "  'support',\n",
              "  'you',\n",
              "  'at',\n",
              "  'the',\n",
              "  'box',\n",
              "  'office',\n",
              "  '.']]"
            ]
          },
          "metadata": {},
          "execution_count": 8
        }
      ]
    },
    {
      "cell_type": "code",
      "source": [
        "#Dimension of vectors we are generating\n",
        "EMBEDDING_DIM = 200\n",
        "w2v_model = gensim.models.Word2Vec(sentences = words , size=EMBEDDING_DIM , window = 5 , min_count = 1)\n",
        "w2v_with_context_model = gensim.models.Word2Vec(sentences = context , size=EMBEDDING_DIM , window = 5 , min_count = 1)"
      ],
      "metadata": {
        "id": "7aZ6FwDGIza9"
      },
      "execution_count": 9,
      "outputs": []
    },
    {
      "cell_type": "code",
      "source": [
        "#vocab size\n",
        "len(w2v_model.wv.vocab)"
      ],
      "metadata": {
        "colab": {
          "base_uri": "https://localhost:8080/"
        },
        "id": "G57qajcPJIu_",
        "outputId": "ded6dff6-77d5-4a5f-80cb-3de0b0692be0"
      },
      "execution_count": 10,
      "outputs": [
        {
          "output_type": "execute_result",
          "data": {
            "text/plain": [
              "16706"
            ]
          },
          "metadata": {},
          "execution_count": 10
        }
      ]
    },
    {
      "cell_type": "code",
      "source": [
        "#context vocab size\n",
        "len(w2v_with_context_model.wv.vocab)"
      ],
      "metadata": {
        "id": "Lv4JHKEok_GY",
        "outputId": "ea9083a5-329e-4104-80a1-b63e55aad4a8",
        "colab": {
          "base_uri": "https://localhost:8080/"
        }
      },
      "execution_count": 11,
      "outputs": [
        {
          "output_type": "execute_result",
          "data": {
            "text/plain": [
              "40277"
            ]
          },
          "metadata": {},
          "execution_count": 11
        }
      ]
    },
    {
      "cell_type": "code",
      "source": [
        "tokenizer = text.Tokenizer(num_words=35000)\n",
        "tokenizer.fit_on_texts(words)\n",
        "tokenized_train = tokenizer.texts_to_sequences(words)\n",
        "x = pad_sequences(tokenized_train, maxlen = 200)\n",
        "vocab_size = len(tokenizer.word_index) + 1"
      ],
      "metadata": {
        "id": "RkzMqoqEJMBj"
      },
      "execution_count": 12,
      "outputs": []
    },
    {
      "cell_type": "code",
      "source": [
        "context_tokenizer = text.Tokenizer(num_words=35000)\n",
        "context_tokenizer.fit_on_texts(context)\n",
        "context_tokenized_train = context_tokenizer.texts_to_sequences(context)\n",
        "xc = pad_sequences(context_tokenized_train, maxlen = 200)\n",
        "context_vocab_size = len(context_tokenizer.word_index) + 1"
      ],
      "metadata": {
        "id": "9AL5Ob-NljwM"
      },
      "execution_count": 13,
      "outputs": []
    },
    {
      "cell_type": "code",
      "source": [
        "def get_weight_matrix(model, vocab):\n",
        "    # total vocabulary size plus 0 for unknown words\n",
        "    vocab_size = len(vocab) + 1\n",
        "    # define weight matrix dimensions with all 0\n",
        "    weight_matrix = np.zeros((vocab_size, EMBEDDING_DIM))\n",
        "    # step vocab, store vectors using the Tokenizer's integer mapping\n",
        "    for word, i in vocab.items():\n",
        "        if '@user' or '<url>' == word: continue\n",
        "        weight_matrix[i] = model[word]\n",
        "    return weight_matrix"
      ],
      "metadata": {
        "id": "77NKyQE8NFIS"
      },
      "execution_count": 14,
      "outputs": []
    },
    {
      "cell_type": "code",
      "source": [
        "embedding_vectors = get_weight_matrix(w2v_model, tokenizer.word_index)"
      ],
      "metadata": {
        "id": "L-95fgTPNKl4"
      },
      "execution_count": 15,
      "outputs": []
    },
    {
      "cell_type": "code",
      "source": [
        "context_embedding_vectors = get_weight_matrix(w2v_with_context_model, context_tokenizer.word_index)"
      ],
      "metadata": {
        "id": "BYg8fdRZl4CV"
      },
      "execution_count": 16,
      "outputs": []
    },
    {
      "cell_type": "code",
      "source": [
        "MAX_TWEET_LENGTH = 200\n",
        "MAX_CONTEXT_LENGTH = 200\n",
        "LSTM_UNITS = 128\n",
        "DENSE_UNITS = 1\n",
        "DROPOUT_RATE = 0.3\n",
        "LOSS = 'binary_crossentropy'\n",
        "\n",
        "# define the model architecture\n",
        "input_tweet = keras.layers.Input(shape=(MAX_TWEET_LENGTH,), name='input_tweet')\n",
        "input_context = keras.layers.Input(shape=(MAX_CONTEXT_LENGTH,), name='input_context')\n",
        "\n",
        "# use a word2vec embedding layer to convert words to vectors\n",
        "embedding_tweet = keras.layers.Embedding(input_dim=vocab_size, output_dim=EMBEDDING_DIM, input_length=MAX_TWEET_LENGTH, weights=[embedding_vectors])(input_tweet)\n",
        "embedding_context = keras.layers.Embedding(input_dim=context_vocab_size, output_dim=EMBEDDING_DIM, input_length=MAX_CONTEXT_LENGTH, weights=[context_embedding_vectors])(input_context)\n",
        "\n",
        "# use an LSTM layer to process the tweet\n",
        "lstm_tweet = keras.layers.LSTM(units=LSTM_UNITS)(embedding_tweet)\n",
        "\n",
        "# use an LSTM layer to process the context\n",
        "lstm_context = keras.layers.LSTM(units=LSTM_UNITS)(embedding_context)\n",
        "\n",
        "# concatenate the LSTM outputs for the tweet and context\n",
        "concat = keras.layers.Concatenate()([lstm_tweet, lstm_context])\n",
        "\n",
        "# use a dense layer with dropout to improve generalization\n",
        "dense = keras.layers.Dense(units=DENSE_UNITS, activation='relu')(concat)\n",
        "dropout = keras.layers.Dropout(rate=DROPOUT_RATE)(dense)\n",
        "\n",
        "# use a final dense layer to output the prediction\n",
        "output = keras.layers.Dense(units=1, activation='sigmoid')(dropout)\n",
        "\n",
        "# compile the model with an optimizer and a loss function\n",
        "model = keras.Model(inputs=[input_tweet, input_context], outputs=output)\n",
        "model.compile(optimizer=keras.optimizers.Adam(lr = 0.01), loss=LOSS, metrics=['acc'])"
      ],
      "metadata": {
        "id": "fgv_wSnMj5KU",
        "outputId": "3f803772-db71-4f84-af9f-327c2ae006cd",
        "colab": {
          "base_uri": "https://localhost:8080/"
        }
      },
      "execution_count": 17,
      "outputs": [
        {
          "output_type": "stream",
          "name": "stderr",
          "text": [
            "/usr/local/lib/python3.8/dist-packages/keras/optimizers/optimizer_v2/adam.py:110: UserWarning: The `lr` argument is deprecated, use `learning_rate` instead.\n",
            "  super(Adam, self).__init__(name, **kwargs)\n"
          ]
        }
      ]
    },
    {
      "cell_type": "code",
      "source": [
        "model.summary()"
      ],
      "metadata": {
        "id": "PtNs1YBanuRO",
        "outputId": "0ebbbbff-d65c-4aa1-c1b9-29766870a4ac",
        "colab": {
          "base_uri": "https://localhost:8080/"
        }
      },
      "execution_count": 18,
      "outputs": [
        {
          "output_type": "stream",
          "name": "stdout",
          "text": [
            "Model: \"model\"\n",
            "__________________________________________________________________________________________________\n",
            " Layer (type)                   Output Shape         Param #     Connected to                     \n",
            "==================================================================================================\n",
            " input_tweet (InputLayer)       [(None, 200)]        0           []                               \n",
            "                                                                                                  \n",
            " input_context (InputLayer)     [(None, 200)]        0           []                               \n",
            "                                                                                                  \n",
            " embedding (Embedding)          (None, 200, 200)     2863200     ['input_tweet[0][0]']            \n",
            "                                                                                                  \n",
            " embedding_1 (Embedding)        (None, 200, 200)     6712400     ['input_context[0][0]']          \n",
            "                                                                                                  \n",
            " lstm (LSTM)                    (None, 128)          168448      ['embedding[0][0]']              \n",
            "                                                                                                  \n",
            " lstm_1 (LSTM)                  (None, 128)          168448      ['embedding_1[0][0]']            \n",
            "                                                                                                  \n",
            " concatenate (Concatenate)      (None, 256)          0           ['lstm[0][0]',                   \n",
            "                                                                  'lstm_1[0][0]']                 \n",
            "                                                                                                  \n",
            " dense (Dense)                  (None, 1)            257         ['concatenate[0][0]']            \n",
            "                                                                                                  \n",
            " dropout (Dropout)              (None, 1)            0           ['dense[0][0]']                  \n",
            "                                                                                                  \n",
            " dense_1 (Dense)                (None, 1)            2           ['dropout[0][0]']                \n",
            "                                                                                                  \n",
            "==================================================================================================\n",
            "Total params: 9,912,755\n",
            "Trainable params: 9,912,755\n",
            "Non-trainable params: 0\n",
            "__________________________________________________________________________________________________\n"
          ]
        }
      ]
    },
    {
      "cell_type": "code",
      "source": [
        "label_mapping = {'SARCASM': 1, 'NOT_SARCASM': 0}\n",
        "df['label'] = df['label'].map(label_mapping)"
      ],
      "metadata": {
        "id": "01aTugcKolFT"
      },
      "execution_count": 19,
      "outputs": []
    },
    {
      "cell_type": "code",
      "source": [
        "df.label"
      ],
      "metadata": {
        "id": "owi9AG3yv8-z",
        "outputId": "46995d00-e6a0-447e-9416-b4a2c9cc500f",
        "colab": {
          "base_uri": "https://localhost:8080/"
        }
      },
      "execution_count": 20,
      "outputs": [
        {
          "output_type": "execute_result",
          "data": {
            "text/plain": [
              "0       1\n",
              "1       1\n",
              "2       1\n",
              "3       1\n",
              "4       1\n",
              "       ..\n",
              "4995    0\n",
              "4996    0\n",
              "4997    0\n",
              "4998    0\n",
              "4999    0\n",
              "Name: label, Length: 5000, dtype: int64"
            ]
          },
          "metadata": {},
          "execution_count": 20
        }
      ]
    },
    {
      "cell_type": "code",
      "source": [
        "context = []\n",
        "for indx, i in enumerate(df.context.values):\n",
        "    context.append(''.join(df.context.values[indx]))\n",
        "\n",
        "df['mereged_contexts'] = context"
      ],
      "metadata": {
        "id": "jHM1CcbBo_2x"
      },
      "execution_count": 21,
      "outputs": []
    },
    {
      "cell_type": "code",
      "source": [
        "# x contains embedded_tweets\n",
        "len(x)"
      ],
      "metadata": {
        "id": "pYPiZmfMqQK4",
        "outputId": "8273e113-545c-47b5-dec6-ce73bd05b357",
        "colab": {
          "base_uri": "https://localhost:8080/"
        }
      },
      "execution_count": 22,
      "outputs": [
        {
          "output_type": "execute_result",
          "data": {
            "text/plain": [
              "5000"
            ]
          },
          "metadata": {},
          "execution_count": 22
        }
      ]
    },
    {
      "cell_type": "code",
      "source": [
        "# x contains embedded_context\n",
        "len(xc)"
      ],
      "metadata": {
        "id": "sxFlULE8qjPw",
        "outputId": "5b1b5de0-e3ed-4058-b8ed-a223771ab34c",
        "colab": {
          "base_uri": "https://localhost:8080/"
        }
      },
      "execution_count": 23,
      "outputs": [
        {
          "output_type": "execute_result",
          "data": {
            "text/plain": [
              "5000"
            ]
          },
          "metadata": {},
          "execution_count": 23
        }
      ]
    },
    {
      "cell_type": "code",
      "source": [
        "x_train, x_test, xc_train, xc_test,  y_train, y_test = train_test_split(x, xc, df.label , test_size = 0.3 , random_state = 0) "
      ],
      "metadata": {
        "id": "10DjcIM0olqf"
      },
      "execution_count": 24,
      "outputs": []
    },
    {
      "cell_type": "code",
      "source": [
        "x_train"
      ],
      "metadata": {
        "id": "LJLi1vQlvv8a",
        "outputId": "00ead988-cea1-4ee2-ed84-a09a81c9dd9a",
        "colab": {
          "base_uri": "https://localhost:8080/"
        }
      },
      "execution_count": 25,
      "outputs": [
        {
          "output_type": "execute_result",
          "data": {
            "text/plain": [
              "array([[    0,     0,     0, ...,     7,   389,    11],\n",
              "       [    0,     0,     0, ...,    24,   354,     2],\n",
              "       [    0,     0,     0, ...,     6,   942,     2],\n",
              "       ...,\n",
              "       [    0,     0,     0, ...,  4846,   186,   415],\n",
              "       [    0,     0,     0, ...,    56,  3734,    26],\n",
              "       [    0,     0,     0, ...,     6, 10527,    58]], dtype=int32)"
            ]
          },
          "metadata": {},
          "execution_count": 25
        }
      ]
    },
    {
      "cell_type": "code",
      "source": [
        "xc_train"
      ],
      "metadata": {
        "id": "ah36PzwHvySJ",
        "outputId": "18baa9e6-0e51-4f0f-994e-16d9ba678dc8",
        "colab": {
          "base_uri": "https://localhost:8080/"
        }
      },
      "execution_count": 26,
      "outputs": [
        {
          "output_type": "execute_result",
          "data": {
            "text/plain": [
              "array([[   0,    0,    0, ...,   36,   16,   60],\n",
              "       [   0,    0,    0, ...,  758,  110,   18],\n",
              "       [   0,    0,    0, ...,  181,  181,  181],\n",
              "       ...,\n",
              "       [   0,    0,    0, ...,  402,  238,    1],\n",
              "       [   0,    0,    0, ..., 2370,   66,   18],\n",
              "       [   0,    0,    0, ..., 1056, 2505,    1]], dtype=int32)"
            ]
          },
          "metadata": {},
          "execution_count": 26
        }
      ]
    },
    {
      "cell_type": "code",
      "source": [
        "y_train"
      ],
      "metadata": {
        "id": "lqzVtCJjv2KD",
        "outputId": "f0c02ef8-65e3-4f80-968e-1bc614333fed",
        "colab": {
          "base_uri": "https://localhost:8080/"
        }
      },
      "execution_count": 27,
      "outputs": [
        {
          "output_type": "execute_result",
          "data": {
            "text/plain": [
              "2858    0\n",
              "1559    1\n",
              "1441    1\n",
              "2179    1\n",
              "1390    1\n",
              "       ..\n",
              "4931    0\n",
              "3264    0\n",
              "1653    1\n",
              "2607    0\n",
              "2732    0\n",
              "Name: label, Length: 3500, dtype: int64"
            ]
          },
          "metadata": {},
          "execution_count": 27
        }
      ]
    },
    {
      "cell_type": "code",
      "source": [
        "x_test"
      ],
      "metadata": {
        "id": "ODb_bijCwT-v",
        "outputId": "8a741398-2e05-4cb5-f669-75639ff30a59",
        "colab": {
          "base_uri": "https://localhost:8080/"
        }
      },
      "execution_count": 28,
      "outputs": [
        {
          "output_type": "execute_result",
          "data": {
            "text/plain": [
              "array([[   0,    0,    0, ...,   20,    1,    1],\n",
              "       [   0,    0,    0, ...,   38,   18,   20],\n",
              "       [   0,    0,    0, ...,   45,   12,   17],\n",
              "       ...,\n",
              "       [   0,    0,    0, ...,  202,   27, 1544],\n",
              "       [   0,    0,    0, ..., 5382,  773,   20],\n",
              "       [   0,    0,    0, ...,   26,  177,    2]], dtype=int32)"
            ]
          },
          "metadata": {},
          "execution_count": 28
        }
      ]
    },
    {
      "cell_type": "code",
      "source": [
        "xc_test"
      ],
      "metadata": {
        "id": "dLJAX9c6wWFC",
        "outputId": "14a2b218-6063-45d1-f2f8-ca501919be0b",
        "colab": {
          "base_uri": "https://localhost:8080/"
        }
      },
      "execution_count": 29,
      "outputs": [
        {
          "output_type": "execute_result",
          "data": {
            "text/plain": [
              "array([[    0,     0,     0, ...,    15,   839,     1],\n",
              "       [    0,     0,     0, ...,     1,  3867,    60],\n",
              "       [  584,     7,    13, ...,    13,   137,    43],\n",
              "       ...,\n",
              "       [    0,     0,     0, ...,     2, 19084,     1],\n",
              "       [    0,     0,     0, ...,  8690,   490,  3461],\n",
              "       [    0,     0,     0, ...,     9,   221,     1]], dtype=int32)"
            ]
          },
          "metadata": {},
          "execution_count": 29
        }
      ]
    },
    {
      "cell_type": "code",
      "source": [
        "y_test"
      ],
      "metadata": {
        "id": "q1ikQqeYwYCE",
        "outputId": "e32651da-c78b-422d-8514-cf885cbb0b39",
        "colab": {
          "base_uri": "https://localhost:8080/"
        }
      },
      "execution_count": 30,
      "outputs": [
        {
          "output_type": "execute_result",
          "data": {
            "text/plain": [
              "398     1\n",
              "3833    0\n",
              "4836    0\n",
              "4572    0\n",
              "636     1\n",
              "       ..\n",
              "4554    0\n",
              "4807    0\n",
              "1073    1\n",
              "2906    0\n",
              "1357    1\n",
              "Name: label, Length: 1500, dtype: int64"
            ]
          },
          "metadata": {},
          "execution_count": 30
        }
      ]
    },
    {
      "cell_type": "code",
      "source": [
        "[x_train, xc_train]"
      ],
      "metadata": {
        "id": "qsaQUaR2wn-H",
        "outputId": "97483086-fad3-462c-e172-2571decabcde",
        "colab": {
          "base_uri": "https://localhost:8080/"
        }
      },
      "execution_count": 31,
      "outputs": [
        {
          "output_type": "execute_result",
          "data": {
            "text/plain": [
              "[array([[    0,     0,     0, ...,     7,   389,    11],\n",
              "        [    0,     0,     0, ...,    24,   354,     2],\n",
              "        [    0,     0,     0, ...,     6,   942,     2],\n",
              "        ...,\n",
              "        [    0,     0,     0, ...,  4846,   186,   415],\n",
              "        [    0,     0,     0, ...,    56,  3734,    26],\n",
              "        [    0,     0,     0, ...,     6, 10527,    58]], dtype=int32),\n",
              " array([[   0,    0,    0, ...,   36,   16,   60],\n",
              "        [   0,    0,    0, ...,  758,  110,   18],\n",
              "        [   0,    0,    0, ...,  181,  181,  181],\n",
              "        ...,\n",
              "        [   0,    0,    0, ...,  402,  238,    1],\n",
              "        [   0,    0,    0, ..., 2370,   66,   18],\n",
              "        [   0,    0,    0, ..., 1056, 2505,    1]], dtype=int32)]"
            ]
          },
          "metadata": {},
          "execution_count": 31
        }
      ]
    },
    {
      "cell_type": "code",
      "source": [
        "history = model.fit([x_train, xc_train], y_train, batch_size = 128  , validation_data = ([x_test, xc_test],y_test), epochs = 15)"
      ],
      "metadata": {
        "id": "RDEyE44jnvei",
        "outputId": "6aa5e443-e000-4640-d101-85d0804baf6b",
        "colab": {
          "base_uri": "https://localhost:8080/"
        }
      },
      "execution_count": 32,
      "outputs": [
        {
          "output_type": "stream",
          "name": "stdout",
          "text": [
            "Epoch 1/15\n",
            "28/28 [==============================] - 10s 73ms/step - loss: 0.6932 - acc: 0.5043 - val_loss: 0.6942 - val_acc: 0.4807\n",
            "Epoch 2/15\n",
            "28/28 [==============================] - 1s 41ms/step - loss: 0.6932 - acc: 0.5083 - val_loss: 0.6937 - val_acc: 0.4807\n",
            "Epoch 3/15\n",
            "28/28 [==============================] - 1s 41ms/step - loss: 0.6934 - acc: 0.4900 - val_loss: 0.6937 - val_acc: 0.4807\n",
            "Epoch 4/15\n",
            "28/28 [==============================] - 1s 42ms/step - loss: 0.6934 - acc: 0.5083 - val_loss: 0.6942 - val_acc: 0.4807\n",
            "Epoch 5/15\n",
            "28/28 [==============================] - 1s 42ms/step - loss: 0.6931 - acc: 0.5083 - val_loss: 0.6937 - val_acc: 0.4807\n",
            "Epoch 6/15\n",
            "28/28 [==============================] - 1s 41ms/step - loss: 0.6931 - acc: 0.5083 - val_loss: 0.6938 - val_acc: 0.4807\n",
            "Epoch 7/15\n",
            "28/28 [==============================] - 1s 42ms/step - loss: 0.6931 - acc: 0.5083 - val_loss: 0.6938 - val_acc: 0.4807\n",
            "Epoch 8/15\n",
            "28/28 [==============================] - 1s 42ms/step - loss: 0.6931 - acc: 0.5083 - val_loss: 0.6937 - val_acc: 0.4807\n",
            "Epoch 9/15\n",
            "28/28 [==============================] - 1s 41ms/step - loss: 0.6931 - acc: 0.5083 - val_loss: 0.6941 - val_acc: 0.4807\n",
            "Epoch 10/15\n",
            "28/28 [==============================] - 1s 42ms/step - loss: 0.6931 - acc: 0.5083 - val_loss: 0.6936 - val_acc: 0.4807\n",
            "Epoch 11/15\n",
            "28/28 [==============================] - 1s 41ms/step - loss: 0.6931 - acc: 0.5083 - val_loss: 0.6941 - val_acc: 0.4807\n",
            "Epoch 12/15\n",
            "28/28 [==============================] - 1s 41ms/step - loss: 0.6931 - acc: 0.5083 - val_loss: 0.6938 - val_acc: 0.4807\n",
            "Epoch 13/15\n",
            "28/28 [==============================] - 1s 42ms/step - loss: 0.6931 - acc: 0.5083 - val_loss: 0.6938 - val_acc: 0.4807\n",
            "Epoch 14/15\n",
            "28/28 [==============================] - 1s 42ms/step - loss: 0.6931 - acc: 0.5083 - val_loss: 0.6939 - val_acc: 0.4807\n",
            "Epoch 15/15\n",
            "28/28 [==============================] - 1s 42ms/step - loss: 0.6931 - acc: 0.5083 - val_loss: 0.6937 - val_acc: 0.4807\n"
          ]
        }
      ]
    },
    {
      "cell_type": "code",
      "source": [
        "sns.set_style(\"dark\")\n",
        "sns.countplot(y_test)"
      ],
      "metadata": {
        "colab": {
          "base_uri": "https://localhost:8080/",
          "height": 351
        },
        "id": "pbnztd7CYav_",
        "outputId": "3b0d81a8-f74a-48a8-ddc7-f585637f0eb3"
      },
      "execution_count": 33,
      "outputs": [
        {
          "output_type": "stream",
          "name": "stderr",
          "text": [
            "/usr/local/lib/python3.8/dist-packages/seaborn/_decorators.py:36: FutureWarning: Pass the following variable as a keyword arg: x. From version 0.12, the only valid positional argument will be `data`, and passing other arguments without an explicit keyword will result in an error or misinterpretation.\n",
            "  warnings.warn(\n"
          ]
        },
        {
          "output_type": "execute_result",
          "data": {
            "text/plain": [
              "<matplotlib.axes._subplots.AxesSubplot at 0x7fa5f1dfcc10>"
            ]
          },
          "metadata": {},
          "execution_count": 33
        },
        {
          "output_type": "display_data",
          "data": {
            "text/plain": [
              "<Figure size 432x288 with 1 Axes>"
            ],
            "image/png": "[encoded data removed]"
          },
          "metadata": {}
        }
      ]
    },
    {
      "cell_type": "code",
      "source": [
        "print(\"Accuracy of the model on Training Data is - \" , model.evaluate([x_train, xc_train],y_train)[1]*100)\n",
        "print(\"Accuracy of the model on Testing Data is - \" , model.evaluate([x_test, xc_test],y_test)[1]*100)"
      ],
      "metadata": {
        "colab": {
          "base_uri": "https://localhost:8080/"
        },
        "id": "cAuF3AYQjxgA",
        "outputId": "f80ff82a-40d7-45ff-f8f9-0953a41f4c64"
      },
      "execution_count": 36,
      "outputs": [
        {
          "output_type": "stream",
          "name": "stdout",
          "text": [
            "110/110 [==============================] - 2s 19ms/step - loss: 0.6930 - acc: 0.5083\n",
            "Accuracy of the model on Training Data is -  50.82857012748718\n",
            "47/47 [==============================] - 1s 11ms/step - loss: 0.6937 - acc: 0.4807\n",
            "Accuracy of the model on Testing Data is -  48.06666672229767\n"
          ]
        }
      ]
    },
    {
      "cell_type": "code",
      "source": [
        "epochs = [i for i in range(15)]\n",
        "fig , ax = plt.subplots(1,2)\n",
        "train_acc = history.history['acc']\n",
        "train_loss = history.history['loss']\n",
        "val_acc = history.history['val_acc']\n",
        "val_loss = history.history['val_loss']\n",
        "fig.set_size_inches(20,10)\n",
        "\n",
        "ax[0].plot(epochs , train_acc , 'go-' , label = 'Training Accuracy')\n",
        "ax[0].plot(epochs , val_acc , 'ro-' , label = 'Testing Accuracy')\n",
        "ax[0].set_title('Training & Testing Accuracy')\n",
        "ax[0].legend()\n",
        "ax[0].set_xlabel(\"Epochs\")\n",
        "ax[0].set_ylabel(\"Accuracy\")\n",
        "\n",
        "ax[1].plot(epochs , train_loss , 'go-' , label = 'Training Loss')\n",
        "ax[1].plot(epochs , val_loss , 'ro-' , label = 'Testing Loss')\n",
        "ax[1].set_title('Training & Testing Loss')\n",
        "ax[1].legend()\n",
        "ax[1].set_xlabel(\"Epochs\")\n",
        "ax[1].set_ylabel(\"Loss\")\n",
        "plt.show()"
      ],
      "metadata": {
        "colab": {
          "base_uri": "https://localhost:8080/",
          "height": 621
        },
        "id": "vJ8LjnBQjypR",
        "outputId": "3da8e1b7-0cf4-40e0-a002-3df8cb42d160"
      },
      "execution_count": 37,
      "outputs": [
        {
          "output_type": "display_data",
          "data": {
            "text/plain": [
              "<Figure size 1440x720 with 2 Axes>"
            ],
            "image/png": "[encoded data removed]"
          },
          "metadata": {}
        }
      ]
    },
    {
      "cell_type": "code",
      "source": [
        "y_proba = model.predict_on_batch([x_test, xc_test])\n",
        "y_pred = y_proba.argmax(axis=-1)"
      ],
      "metadata": {
        "id": "KzzcWzV7j7cn"
      },
      "execution_count": 39,
      "outputs": []
    },
    {
      "cell_type": "code",
      "source": [
        "cm = confusion_matrix(y_test,y_pred)\n",
        "cm"
      ],
      "metadata": {
        "colab": {
          "base_uri": "https://localhost:8080/"
        },
        "id": "_Jj79yhCj8NW",
        "outputId": "35b58a7a-6a93-45ec-ee9d-9eb5861efa22"
      },
      "execution_count": 40,
      "outputs": [
        {
          "output_type": "execute_result",
          "data": {
            "text/plain": [
              "array([[779,   0],\n",
              "       [721,   0]])"
            ]
          },
          "metadata": {},
          "execution_count": 40
        }
      ]
    },
    {
      "cell_type": "code",
      "source": [
        "cm = pd.DataFrame(cm , index = ['Not Sarcastic','Sarcastic'] , columns = ['Not Sarcastic','Sarcastic'])\n",
        "plt.figure(figsize = (10,10))\n",
        "sns.heatmap(cm,cmap= \"Blues\", linecolor = 'black' , linewidth = 1 , annot = True, fmt='' , xticklabels = ['Not Sarcastic','Sarcastic'] , yticklabels = ['Not Sarcastic','Sarcastic'])"
      ],
      "metadata": {
        "colab": {
          "base_uri": "https://localhost:8080/",
          "height": 609
        },
        "id": "PvHDNkK8j9_I",
        "outputId": "00bf6602-cf3e-4b3f-f63d-8f1ef6716518"
      },
      "execution_count": 41,
      "outputs": [
        {
          "output_type": "execute_result",
          "data": {
            "text/plain": [
              "<matplotlib.axes._subplots.AxesSubplot at 0x7fa585293d90>"
            ]
          },
          "metadata": {},
          "execution_count": 41
        },
        {
          "output_type": "display_data",
          "data": {
            "text/plain": [
              "<Figure size 720x720 with 2 Axes>"
            ],
            "image/png": "[encoded data removed]"
          },
          "metadata": {}
        }
      ]
    }
  ]
}